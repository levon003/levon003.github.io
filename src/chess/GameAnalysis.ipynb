{
 "cells": [
  {
   "cell_type": "markdown",
   "id": "37f46b23-a8c2-45ab-b55a-8079fd3a14bf",
   "metadata": {},
   "source": [
    "Game Analysis\n",
    "===\n",
    "\n",
    "Analysis of chess games from the [Lichess Elite Database](https://database.nikonoel.fr/), which is a subset of the [Lichess Database](https://database.lichess.org).\n",
    "\n",
    "Used [python-chess](https://python-chess.readthedocs.io/en/latest/index.html) to extract some stuff.\n",
    "\n",
    "This notebook executed via uvx: `uvx --with pandas --with matplotlib jupyter lab`\n",
    "\n",
    "See: https://docs.astral.sh/uv/concepts/tools/#including-additional-dependencies"
   ]
  },
  {
   "cell_type": "code",
   "execution_count": 1,
   "id": "fafb42cd-bd12-480d-8710-37b9fb70e627",
   "metadata": {},
   "outputs": [],
   "source": [
    "import json\n",
    "import pandas as pd"
   ]
  },
  {
   "cell_type": "code",
   "execution_count": 2,
   "id": "0993d5cf-70a7-40ed-9446-0b2fc1905d59",
   "metadata": {},
   "outputs": [
    {
     "data": {
      "text/plain": [
       "3819130"
      ]
     },
     "execution_count": 2,
     "metadata": {},
     "output_type": "execute_result"
    }
   ],
   "source": [
    "games = []\n",
    "with open(\"game_tags.jsonl\") as infile:\n",
    "    for line in infile:\n",
    "        games.append(json.loads(line))\n",
    "len(games)"
   ]
  },
  {
   "cell_type": "code",
   "execution_count": 3,
   "id": "7d312a9d-a9ac-4c97-8749-27f38141ac17",
   "metadata": {},
   "outputs": [
    {
     "data": {
      "text/plain": [
       "(3819130, 13)"
      ]
     },
     "execution_count": 3,
     "metadata": {},
     "output_type": "execute_result"
    }
   ],
   "source": [
    "columns = [\n",
    "    \"Event\",\n",
    "    \"Date\",\n",
    "    \"White\",\n",
    "    \"Black\",\n",
    "    \"Result\",\n",
    "    \"BlackTitle\",\n",
    "    \"WhiteElo\",\n",
    "    \"BlackElo\",\n",
    "    \"TimeControl\",\n",
    "    \"UTCDate\",\n",
    "    \"UTCTime\",\n",
    "    \"Termination\",\n",
    "    \"WhiteTitle\"\n",
    "]\n",
    "gdf = pd.DataFrame(games, columns=columns)\n",
    "gdf.shape"
   ]
  },
  {
   "cell_type": "code",
   "execution_count": 4,
   "id": "f39891a4-8736-4fb6-bbbf-fc8455d24f8d",
   "metadata": {},
   "outputs": [],
   "source": [
    "del games"
   ]
  },
  {
   "cell_type": "code",
   "execution_count": 5,
   "id": "5aabf0b4-e537-4068-9bc9-cd6ebfc9d178",
   "metadata": {},
   "outputs": [
    {
     "data": {
      "text/html": [
       "<div>\n",
       "<style scoped>\n",
       "    .dataframe tbody tr th:only-of-type {\n",
       "        vertical-align: middle;\n",
       "    }\n",
       "\n",
       "    .dataframe tbody tr th {\n",
       "        vertical-align: top;\n",
       "    }\n",
       "\n",
       "    .dataframe thead th {\n",
       "        text-align: right;\n",
       "    }\n",
       "</style>\n",
       "<table border=\"1\" class=\"dataframe\">\n",
       "  <thead>\n",
       "    <tr style=\"text-align: right;\">\n",
       "      <th></th>\n",
       "      <th>Event</th>\n",
       "      <th>Date</th>\n",
       "      <th>White</th>\n",
       "      <th>Black</th>\n",
       "      <th>Result</th>\n",
       "      <th>BlackTitle</th>\n",
       "      <th>WhiteElo</th>\n",
       "      <th>BlackElo</th>\n",
       "      <th>TimeControl</th>\n",
       "      <th>UTCDate</th>\n",
       "      <th>UTCTime</th>\n",
       "      <th>Termination</th>\n",
       "      <th>WhiteTitle</th>\n",
       "    </tr>\n",
       "  </thead>\n",
       "  <tbody>\n",
       "    <tr>\n",
       "      <th>652109</th>\n",
       "      <td>Rated Blitz game</td>\n",
       "      <td>2020.02.28</td>\n",
       "      <td>hairniko</td>\n",
       "      <td>WalterIalternativo</td>\n",
       "      <td>1/2-1/2</td>\n",
       "      <td>NaN</td>\n",
       "      <td>2440</td>\n",
       "      <td>2400</td>\n",
       "      <td>300+0</td>\n",
       "      <td>2020.02.28</td>\n",
       "      <td>20:35:26</td>\n",
       "      <td>Normal</td>\n",
       "      <td>NaN</td>\n",
       "    </tr>\n",
       "    <tr>\n",
       "      <th>189596</th>\n",
       "      <td>Rated Blitz game</td>\n",
       "      <td>2020.03.15</td>\n",
       "      <td>Den78</td>\n",
       "      <td>AMIRREZALH</td>\n",
       "      <td>0-1</td>\n",
       "      <td>NaN</td>\n",
       "      <td>2459</td>\n",
       "      <td>2448</td>\n",
       "      <td>180+0</td>\n",
       "      <td>2020.03.15</td>\n",
       "      <td>11:59:39</td>\n",
       "      <td>Normal</td>\n",
       "      <td>FM</td>\n",
       "    </tr>\n",
       "    <tr>\n",
       "      <th>1078171</th>\n",
       "      <td>Rated Blitz game</td>\n",
       "      <td>2020.01.30</td>\n",
       "      <td>Chyngys</td>\n",
       "      <td>buchari11</td>\n",
       "      <td>1-0</td>\n",
       "      <td>NaN</td>\n",
       "      <td>2357</td>\n",
       "      <td>2463</td>\n",
       "      <td>180+0</td>\n",
       "      <td>2020.01.30</td>\n",
       "      <td>06:15:02</td>\n",
       "      <td>Normal</td>\n",
       "      <td>NaN</td>\n",
       "    </tr>\n",
       "  </tbody>\n",
       "</table>\n",
       "</div>"
      ],
      "text/plain": [
       "                    Event        Date     White               Black   Result  \\\n",
       "652109   Rated Blitz game  2020.02.28  hairniko  WalterIalternativo  1/2-1/2   \n",
       "189596   Rated Blitz game  2020.03.15     Den78          AMIRREZALH      0-1   \n",
       "1078171  Rated Blitz game  2020.01.30   Chyngys           buchari11      1-0   \n",
       "\n",
       "        BlackTitle WhiteElo BlackElo TimeControl     UTCDate   UTCTime  \\\n",
       "652109         NaN     2440     2400       300+0  2020.02.28  20:35:26   \n",
       "189596         NaN     2459     2448       180+0  2020.03.15  11:59:39   \n",
       "1078171        NaN     2357     2463       180+0  2020.01.30  06:15:02   \n",
       "\n",
       "        Termination WhiteTitle  \n",
       "652109       Normal        NaN  \n",
       "189596       Normal         FM  \n",
       "1078171      Normal        NaN  "
      ]
     },
     "execution_count": 5,
     "metadata": {},
     "output_type": "execute_result"
    }
   ],
   "source": [
    "gdf.sample(n=3)"
   ]
  },
  {
   "cell_type": "code",
   "execution_count": 6,
   "id": "0baa9d3b-b519-4b1a-aecc-fecafdf8f22b",
   "metadata": {},
   "outputs": [
    {
     "data": {
      "text/plain": [
       "Event\n",
       "Rated Blitz game        3774133\n",
       "Rated Rapid game          24152\n",
       "Rated Classical game      20845\n",
       "Name: count, dtype: int64"
      ]
     },
     "execution_count": 6,
     "metadata": {},
     "output_type": "execute_result"
    }
   ],
   "source": [
    "gdf[\"Event\"].value_counts(dropna=False)"
   ]
  },
  {
   "cell_type": "code",
   "execution_count": 7,
   "id": "292ea23d-eec6-4685-bee9-e1b62a6dcfa4",
   "metadata": {},
   "outputs": [
    {
     "data": {
      "text/plain": [
       "Result\n",
       "1-0        1835842\n",
       "0-1        1666151\n",
       "1/2-1/2     315977\n",
       "*             1160\n",
       "Name: count, dtype: int64"
      ]
     },
     "execution_count": 7,
     "metadata": {},
     "output_type": "execute_result"
    }
   ],
   "source": [
    "gdf[\"Result\"].value_counts(dropna=False)"
   ]
  },
  {
   "cell_type": "code",
   "execution_count": 13,
   "id": "5eb38b9c-462e-44b3-92c0-ec2df7f00829",
   "metadata": {},
   "outputs": [
    {
     "data": {
      "text/plain": [
       "Termination\n",
       "Normal              2896673\n",
       "Time forfeit         921226\n",
       "Abandoned              1160\n",
       "Rules infraction         71\n",
       "Name: count, dtype: int64"
      ]
     },
     "execution_count": 13,
     "metadata": {},
     "output_type": "execute_result"
    }
   ],
   "source": [
    "gdf[\"Termination\"].value_counts(dropna=False)"
   ]
  },
  {
   "cell_type": "code",
   "execution_count": 8,
   "id": "3de4e8a5-683d-462f-851f-d4270cea3a04",
   "metadata": {},
   "outputs": [
    {
     "data": {
      "text/plain": [
       "TimeControl\n",
       "180+0     3312509\n",
       "180+2      296190\n",
       "300+0      122822\n",
       "600+0       19361\n",
       "180+1       18252\n",
       "480+0        7375\n",
       "120+3        4704\n",
       "300+5        4692\n",
       "120+2        3845\n",
       "300+3        3143\n",
       "240+0        2492\n",
       "180+3        1971\n",
       "300+8        1485\n",
       "60+4         1232\n",
       "300+2        1168\n",
       "900+15       1159\n",
       "600+5        1158\n",
       "60+3         1001\n",
       "45+4          966\n",
       "240+2         870\n",
       "Name: count, dtype: int64"
      ]
     },
     "execution_count": 8,
     "metadata": {},
     "output_type": "execute_result"
    }
   ],
   "source": [
    "gdf[\"TimeControl\"].value_counts(dropna=False).head(n=20)"
   ]
  },
  {
   "cell_type": "code",
   "execution_count": 14,
   "id": "0ea27eea-688b-49fe-9b3b-28a41f751219",
   "metadata": {},
   "outputs": [
    {
     "data": {
      "text/plain": [
       "3817899"
      ]
     },
     "execution_count": 14,
     "metadata": {},
     "output_type": "execute_result"
    }
   ],
   "source": [
    "#sdf = gdf.sample(n=200000)\n",
    "sdf = gdf[gdf[\"Termination\"].isin({\"Normal\", \"Time forfeit\"})]\n",
    "len(sdf)"
   ]
  },
  {
   "cell_type": "code",
   "execution_count": 15,
   "id": "7c8c3f75-9311-41e1-b515-782f99e80931",
   "metadata": {},
   "outputs": [
    {
     "data": {
      "text/html": [
       "<div>\n",
       "<style scoped>\n",
       "    .dataframe tbody tr th:only-of-type {\n",
       "        vertical-align: middle;\n",
       "    }\n",
       "\n",
       "    .dataframe tbody tr th {\n",
       "        vertical-align: top;\n",
       "    }\n",
       "\n",
       "    .dataframe thead th {\n",
       "        text-align: right;\n",
       "    }\n",
       "</style>\n",
       "<table border=\"1\" class=\"dataframe\">\n",
       "  <thead>\n",
       "    <tr style=\"text-align: right;\">\n",
       "      <th>Result</th>\n",
       "      <th>0-1</th>\n",
       "      <th>1-0</th>\n",
       "      <th>1/2-1/2</th>\n",
       "    </tr>\n",
       "    <tr>\n",
       "      <th>Event</th>\n",
       "      <th></th>\n",
       "      <th></th>\n",
       "      <th></th>\n",
       "    </tr>\n",
       "  </thead>\n",
       "  <tbody>\n",
       "    <tr>\n",
       "      <th>Rated Blitz game</th>\n",
       "      <td>0.436492</td>\n",
       "      <td>0.481149</td>\n",
       "      <td>0.082359</td>\n",
       "    </tr>\n",
       "    <tr>\n",
       "      <th>Rated Classical game</th>\n",
       "      <td>0.434236</td>\n",
       "      <td>0.451613</td>\n",
       "      <td>0.114151</td>\n",
       "    </tr>\n",
       "    <tr>\n",
       "      <th>Rated Rapid game</th>\n",
       "      <td>0.423405</td>\n",
       "      <td>0.457867</td>\n",
       "      <td>0.118728</td>\n",
       "    </tr>\n",
       "  </tbody>\n",
       "</table>\n",
       "</div>"
      ],
      "text/plain": [
       "Result                     0-1       1-0   1/2-1/2\n",
       "Event                                             \n",
       "Rated Blitz game      0.436492  0.481149  0.082359\n",
       "Rated Classical game  0.434236  0.451613  0.114151\n",
       "Rated Rapid game      0.423405  0.457867  0.118728"
      ]
     },
     "execution_count": 15,
     "metadata": {},
     "output_type": "execute_result"
    }
   ],
   "source": [
    "pd.crosstab(sdf[\"Event\"], sdf[\"Result\"], normalize=\"index\")"
   ]
  },
  {
   "cell_type": "code",
   "execution_count": 18,
   "id": "98b12a58-f505-484b-8df8-4b42b936edcc",
   "metadata": {},
   "outputs": [],
   "source": [
    "# TODO I'm curious about the relationship between ELO and drawing games\n",
    "# can continue with additional modeling: https://chatgpt.com/share/686ade5e-8f1c-8009-8e18-76b597132f00\n",
    "# I'm curious to try either the pyGAM or the LOWESS approach\n",
    "# lowess: https://www.statsmodels.org/dev/examples/notebooks/generated/lowess.html\n",
    "# so: https://stackoverflow.com/questions/42637579/how-to-compute-and-plot-a-lowess-curve-in-python"
   ]
  },
  {
   "cell_type": "code",
   "execution_count": null,
   "id": "50fea2d1-6b80-4323-8e30-dd5954ff2442",
   "metadata": {},
   "outputs": [],
   "source": []
  },
  {
   "cell_type": "code",
   "execution_count": null,
   "id": "a4c338ae-4878-44f4-99a4-912ef193fda8",
   "metadata": {},
   "outputs": [],
   "source": []
  },
  {
   "cell_type": "code",
   "execution_count": null,
   "id": "618f914a-da88-4f68-af80-61c39e9fc5b9",
   "metadata": {},
   "outputs": [],
   "source": []
  }
 ],
 "metadata": {
  "kernelspec": {
   "display_name": "Python 3 (ipykernel)",
   "language": "python",
   "name": "python3"
  },
  "language_info": {
   "codemirror_mode": {
    "name": "ipython",
    "version": 3
   },
   "file_extension": ".py",
   "mimetype": "text/x-python",
   "name": "python",
   "nbconvert_exporter": "python",
   "pygments_lexer": "ipython3",
   "version": "3.13.4"
  }
 },
 "nbformat": 4,
 "nbformat_minor": 5
}
