{
 "cells": [
  {
   "cell_type": "markdown",
   "id": "4a0dad07-a943-4272-ba1c-7560888a4285",
   "metadata": {},
   "source": [
    "TikTok User Data Exploration\n",
    "===\n",
    "\n",
    "Exploration of the `user_data_tiktok.json` file exported by TikTok's data download utility.\n",
    "\n",
    "### Downloading liked videos\n",
    "\n",
    "This Jupyter notebook creates the `liked_videos.txt` file, which can be passed to [yt-dlp](https://github.com/yt-dlp/yt-dlp) to batch download TikTok videos. The `--write-info-json` flag is optional, but saves additional metadata alongside the .mp4 video in a .info.json file.\n",
    "\n",
    "```bash\n",
    "yt-dlp \\\n",
    "    -P ~/repos/levon003.github.io/src/tiktok_download/videos \\\n",
    "    -a ~/repos/levon003.github.io/src/tiktok_download/liked_videos.txt \\\n",
    "    -o \"%(uploader)s_%(upload_date)s_%(id)s.%(ext)s\" \\\n",
    "    --write-info-json\n",
    "```"
   ]
  },
  {
   "cell_type": "code",
   "execution_count": 11,
   "id": "5fff1921-a5e7-4a97-9757-0405797c803b",
   "metadata": {
    "tags": []
   },
   "outputs": [],
   "source": [
    "from collections import Counter\n",
    "import json"
   ]
  },
  {
   "cell_type": "code",
   "execution_count": 3,
   "id": "bb56e2eb-5d79-4cae-8d42-5a322eea587e",
   "metadata": {
    "tags": []
   },
   "outputs": [
    {
     "data": {
      "text/plain": [
       "dict_keys(['Activity', 'Ads and data', 'App Settings', 'Comment', 'Direct Messages', 'Income Plus Wallet Transactions', 'Poi Review', 'Profile', 'Tiktok Live', 'Tiktok Shopping', 'Video'])"
      ]
     },
     "execution_count": 3,
     "metadata": {},
     "output_type": "execute_result"
    }
   ],
   "source": [
    "with open(\"user_data_tiktok.json\") as infile:\n",
    "    user_data = json.load(infile)\n",
    "user_data.keys()"
   ]
  },
  {
   "cell_type": "markdown",
   "id": "1ceaa612-932b-4276-b667-e04f319bd2f2",
   "metadata": {},
   "source": [
    "## Ads data"
   ]
  },
  {
   "cell_type": "code",
   "execution_count": 7,
   "id": "e8eecd9e-2e08-4e93-92c4-d826cefe2260",
   "metadata": {
    "tags": []
   },
   "outputs": [
    {
     "data": {
      "text/plain": [
       "dict_keys(['Ad Interests', 'Off TikTok Activity'])"
      ]
     },
     "execution_count": 7,
     "metadata": {},
     "output_type": "execute_result"
    }
   ],
   "source": [
    "user_data[\"Ads and data\"].keys()"
   ]
  },
  {
   "cell_type": "code",
   "execution_count": 9,
   "id": "604a4723-0abe-43d6-94dc-4d1cd03ade05",
   "metadata": {
    "tags": []
   },
   "outputs": [
    {
     "data": {
      "text/plain": [
       "dict_keys(['OffTikTokActivityDataList'])"
      ]
     },
     "execution_count": 9,
     "metadata": {},
     "output_type": "execute_result"
    }
   ],
   "source": [
    "user_data[\"Ads and data\"][\"Off TikTok Activity\"].keys()"
   ]
  },
  {
   "cell_type": "code",
   "execution_count": 12,
   "id": "297f4c2e-f12c-419f-9112-b1d9aa2fa9a3",
   "metadata": {
    "tags": []
   },
   "outputs": [
    {
     "data": {
      "text/plain": [
       "126"
      ]
     },
     "execution_count": 12,
     "metadata": {},
     "output_type": "execute_result"
    }
   ],
   "source": [
    "off_tiktok_activity = user_data[\"Ads and data\"][\"Off TikTok Activity\"][\"OffTikTokActivityDataList\"]\n",
    "len(off_tiktok_activity)"
   ]
  },
  {
   "cell_type": "code",
   "execution_count": 16,
   "id": "ee127ee6-9e7b-48de-a991-bb8cb675f706",
   "metadata": {
    "tags": []
   },
   "outputs": [
    {
     "data": {
      "text/plain": [
       "[('MacysINC', 123),\n",
       " ('NA | MAX | WBD | Upper Funnel', 1),\n",
       " ('NA | MAX | WBD | Performance', 1),\n",
       " (\"ICON-David's Bridal\", 1)]"
      ]
     },
     "execution_count": 16,
     "metadata": {},
     "output_type": "execute_result"
    }
   ],
   "source": [
    "c = Counter([activity[\"Source\"] for activity in off_tiktok_activity])\n",
    "c.most_common(10)"
   ]
  },
  {
   "cell_type": "code",
   "execution_count": 17,
   "id": "88d64ce3-1410-4af7-90e3-1b7e290074b8",
   "metadata": {
    "tags": []
   },
   "outputs": [
    {
     "data": {
      "text/plain": [
       "[('Pageview', 75), ('ViewContent', 51)]"
      ]
     },
     "execution_count": 17,
     "metadata": {},
     "output_type": "execute_result"
    }
   ],
   "source": [
    "c = Counter([activity[\"Event\"] for activity in off_tiktok_activity])\n",
    "c.most_common(10)"
   ]
  },
  {
   "cell_type": "markdown",
   "id": "65378cbd-71f1-4548-bbd6-196cbafb2784",
   "metadata": {},
   "source": [
    "## Activity data"
   ]
  },
  {
   "cell_type": "code",
   "execution_count": 19,
   "id": "9d778a0f-b0e2-4901-bc87-9bda588f0376",
   "metadata": {
    "tags": []
   },
   "outputs": [
    {
     "data": {
      "text/plain": [
       "dict_keys(['Favorite Effects', 'Favorite Hashtags', 'Favorite Sounds', 'Favorite Videos', 'Follower List', 'Following List', 'Hashtag', 'Like List', 'Login History', 'Purchase History', 'Search History', 'Share History', 'Status', 'Video Browsing History'])"
      ]
     },
     "execution_count": 19,
     "metadata": {},
     "output_type": "execute_result"
    }
   ],
   "source": [
    "activity = user_data[\"Activity\"]\n",
    "activity.keys()"
   ]
  },
  {
   "cell_type": "code",
   "execution_count": 21,
   "id": "6ae5c7c3-18fe-43a7-8dbb-9e3ac7733206",
   "metadata": {
    "tags": []
   },
   "outputs": [
    {
     "data": {
      "text/plain": [
       "803"
      ]
     },
     "execution_count": 21,
     "metadata": {},
     "output_type": "execute_result"
    }
   ],
   "source": [
    "following = activity[\"Following List\"][\"Following\"]\n",
    "len(following)"
   ]
  },
  {
   "cell_type": "code",
   "execution_count": 25,
   "id": "88a6509d-24c5-4f60-9b0a-3eaa8dc07017",
   "metadata": {
    "tags": []
   },
   "outputs": [
    {
     "data": {
      "text/plain": [
       "3837"
      ]
     },
     "execution_count": 25,
     "metadata": {},
     "output_type": "execute_result"
    }
   ],
   "source": [
    "likes = activity[\"Like List\"][\"ItemFavoriteList\"]\n",
    "len(likes)"
   ]
  },
  {
   "cell_type": "code",
   "execution_count": 27,
   "id": "9e950987-7c72-4274-bebf-6241b9c4696e",
   "metadata": {
    "tags": []
   },
   "outputs": [],
   "source": [
    "with open(\"liked_videos.txt\", \"w\") as outfile:\n",
    "    for like in likes:\n",
    "        outfile.write(like[\"link\"] + \"\\n\")"
   ]
  },
  {
   "cell_type": "code",
   "execution_count": null,
   "id": "238097eb-d39c-4be2-8c64-b87582e30a8d",
   "metadata": {},
   "outputs": [],
   "source": []
  },
  {
   "cell_type": "code",
   "execution_count": null,
   "id": "58cf59b8-0669-4980-9716-09ca907c28a5",
   "metadata": {},
   "outputs": [],
   "source": []
  }
 ],
 "metadata": {
  "kernelspec": {
   "display_name": "Python 3 (ipykernel)",
   "language": "python",
   "name": "python3"
  },
  "language_info": {
   "codemirror_mode": {
    "name": "ipython",
    "version": 3
   },
   "file_extension": ".py",
   "mimetype": "text/x-python",
   "name": "python",
   "nbconvert_exporter": "python",
   "pygments_lexer": "ipython3",
   "version": "3.11.2"
  }
 },
 "nbformat": 4,
 "nbformat_minor": 5
}
