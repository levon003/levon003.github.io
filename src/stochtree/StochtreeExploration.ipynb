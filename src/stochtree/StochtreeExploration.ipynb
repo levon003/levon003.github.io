{
 "cells": [
  {
   "cell_type": "markdown",
   "id": "d50d65e5-3895-481c-a11c-68f091040bc6",
   "metadata": {},
   "source": [
    "Stochtree Exploration\n",
    "===\n"
   ]
  },
  {
   "cell_type": "code",
   "execution_count": 1,
   "id": "a72bf3ec-181b-4937-8624-e51ed0105f94",
   "metadata": {},
   "outputs": [],
   "source": [
    "import stochtree"
   ]
  },
  {
   "cell_type": "code",
   "execution_count": null,
   "id": "14f2aebb-85ff-4b4d-90be-6e9a3ad47c70",
   "metadata": {},
   "outputs": [],
   "source": []
  }
 ],
 "metadata": {
  "kernelspec": {
   "display_name": "Python 3 (ipykernel)",
   "language": "python",
   "name": "python3"
  },
  "language_info": {
   "codemirror_mode": {
    "name": "ipython",
    "version": 3
   },
   "file_extension": ".py",
   "mimetype": "text/x-python",
   "name": "python",
   "nbconvert_exporter": "python",
   "pygments_lexer": "ipython3",
   "version": "3.13.0"
  }
 },
 "nbformat": 4,
 "nbformat_minor": 5
}
