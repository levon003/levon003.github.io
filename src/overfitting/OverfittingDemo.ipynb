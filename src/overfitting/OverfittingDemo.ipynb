{
 "cells": [
  {
   "cell_type": "markdown",
   "id": "02736d7c-e3f3-4d19-9d47-a7724678e1f1",
   "metadata": {},
   "source": [
    "Overfitting Demo\n",
    "==="
   ]
  },
  {
   "cell_type": "code",
   "execution_count": 17,
   "id": "9e798608-0bf4-4e38-94d2-052ec9532b59",
   "metadata": {},
   "outputs": [],
   "source": [
    "%config InlineBackend.figure_format = 'retina'"
   ]
  },
  {
   "cell_type": "code",
   "execution_count": 12,
   "id": "8120a860-fa74-4518-9b10-d404cb76a02e",
   "metadata": {},
   "outputs": [],
   "source": [
    "import numpy as np\n",
    "import pandas as pd\n",
    "import matplotlib.pyplot as plt\n",
    "from tqdm import tqdm\n",
    "from sklearn.model_selection import train_test_split, ParameterGrid\n",
    "from sklearn.ensemble import HistGradientBoostingClassifier\n",
    "from sklearn.metrics import accuracy_score\n",
    "\n",
    "def get_simulated_data(n=1000):    \n",
    "    X1 = np.random.normal(0, 1, n)\n",
    "    X2 = np.random.beta(2, 5, n)\n",
    "    X3 = np.random.uniform(-1, 1, n)\n",
    "    noise = np.random.normal(0, 0.1, n)\n",
    "    \n",
    "    y_prob = 1 / (1 + np.exp(-3 * (X1**2 - X2 + 0.5 * X3)))  # Non-linear function\n",
    "    y = (y_prob + noise > 0.5).astype(int)\n",
    "    \n",
    "    X = np.column_stack([X1, X2, X3])\n",
    "    return X, y\n",
    "\n",
    "def create_benchmark(X, y, test_size=0.2, seed=None):\n",
    "    return train_test_split(X, y, test_size=test_size, random_state=seed)\n",
    "\n",
    "def do_modeling(X_train, y_train, X_test, y_test, verbose: bool = True):\n",
    "    param_grid = {\n",
    "        'max_iter': [100, 200], \n",
    "        'max_depth': [3, 5, 7], \n",
    "        'learning_rate': [0.1, 0.5], \n",
    "        'max_depth': [None, 2],\n",
    "    }\n",
    "    best_acc = 0\n",
    "    best_model = None\n",
    "    # TODO to improve this simulation, we should randomize the parameters in the parameter grid\n",
    "    # and then keep track of our performance each time we find a new best model\n",
    "    for params in ParameterGrid(param_grid):\n",
    "        model = HistGradientBoostingClassifier(**params)\n",
    "        model.fit(X_train, y_train)\n",
    "    \n",
    "        y_pred = model.predict(X_test)\n",
    "        test_acc = accuracy_score(y_test, y_pred)\n",
    "        if test_acc > best_acc:\n",
    "            best_acc = test_acc\n",
    "            best_model = model\n",
    "    if verbose:\n",
    "        print(f\"Best test accuracy: {best_acc:.4f}\")\n",
    "    \n",
    "    return best_model, best_acc\n",
    "\n",
    "def demonstrate_overfitting(seed: int, verbose: bool = False):\n",
    "    np.random.seed(seed)\n",
    "    X, y = get_simulated_data(n=500)\n",
    "    X_train, X_test, y_train, y_test = create_benchmark(X, y, seed=42)\n",
    "    model, best_test_acc = do_modeling(X_train, y_train, X_test, y_test, verbose=verbose)\n",
    "    \n",
    "    # Generate a truly held-out dataset\n",
    "    X_holdout, y_holdout = get_simulated_data(n=10000)\n",
    "    y_pred_holdout = model.predict(X_holdout)\n",
    "    holdout_acc = accuracy_score(y_holdout, y_pred_holdout)\n",
    "    if verbose:\n",
    "        print(f\"Holdout accuracy: {holdout_acc:.4f}\")\n",
    "    return best_test_acc, holdout_acc"
   ]
  },
  {
   "cell_type": "code",
   "execution_count": 3,
   "id": "bf622050-1533-4839-83c4-699d831ac1ae",
   "metadata": {},
   "outputs": [
    {
     "data": {
      "text/plain": [
       "'67.4% of rows have y == 1, the rest 0'"
      ]
     },
     "execution_count": 3,
     "metadata": {},
     "output_type": "execute_result"
    }
   ],
   "source": [
    "X, y = get_simulated_data(n=500)\n",
    "X_train, X_test, y_train, y_test = create_benchmark(X, y, seed=42)\n",
    "f\"{y.sum() / len(y):.1%} of rows have y == 1, the rest 0\""
   ]
  },
  {
   "cell_type": "code",
   "execution_count": 5,
   "id": "dedcbbf3-fcbd-400c-a8cf-1966bb5db2ce",
   "metadata": {},
   "outputs": [
    {
     "name": "stdout",
     "output_type": "stream",
     "text": [
      "Best test accuracy: 0.9300\n"
     ]
    }
   ],
   "source": [
    "model, _ = do_modeling(X_train, y_train, X_test, y_test)"
   ]
  },
  {
   "cell_type": "code",
   "execution_count": 6,
   "id": "f7ac7283-9163-48cc-803b-ed56251b0d70",
   "metadata": {},
   "outputs": [
    {
     "name": "stdout",
     "output_type": "stream",
     "text": [
      "Holdout accuracy: 0.9100\n"
     ]
    }
   ],
   "source": [
    "# Generate a truly held-out dataset\n",
    "X_holdout, y_holdout = get_simulated_data(n=500)\n",
    "y_pred_holdout = model.predict(X_holdout)\n",
    "holdout_acc = accuracy_score(y_holdout, y_pred_holdout)\n",
    "print(f\"Holdout accuracy: {holdout_acc:.4f}\")"
   ]
  },
  {
   "cell_type": "code",
   "execution_count": 38,
   "id": "f97baed6-d136-4cc5-84b0-cc4d641ab9de",
   "metadata": {},
   "outputs": [
    {
     "name": "stderr",
     "output_type": "stream",
     "text": [
      "Simulating overfitting: 100%|█████████████████████████████████████████████████████████████████| 200/200 [07:55<00:00,  2.38s/it]\n"
     ]
    }
   ],
   "source": [
    "n = 600\n",
    "seeds = np.random.randint(1, 100000, size=n)\n",
    "for seed in tqdm(seeds, desc=\"Simulating overfitting\"):\n",
    "    best_test_acc, holdout_acc = demonstrate_overfitting(seed)\n",
    "    results.append((best_test_acc, holdout_acc))"
   ]
  },
  {
   "cell_type": "code",
   "execution_count": 47,
   "id": "0b840a0a-f4d4-4dc0-885d-4a5366f56553",
   "metadata": {},
   "outputs": [],
   "source": [
    "df = pd.DataFrame(results, columns=[\"Benchmark Acc\", \"True Acc\"])\n",
    "df[\"Accuracy Difference\"] = df[\"Benchmark Acc\"] - df[\"True Acc\"]"
   ]
  },
  {
   "cell_type": "code",
   "execution_count": 48,
   "id": "cb4d19d4-a118-4b0d-9b3b-e7ca8ab6c654",
   "metadata": {},
   "outputs": [
    {
     "data": {
      "text/plain": [
       "count    600.000000\n",
       "mean       0.014656\n",
       "std        0.026905\n",
       "min       -0.085400\n",
       "25%       -0.001325\n",
       "50%        0.016650\n",
       "75%        0.032775\n",
       "max        0.082500\n",
       "Name: Accuracy Difference, dtype: float64"
      ]
     },
     "execution_count": 48,
     "metadata": {},
     "output_type": "execute_result"
    }
   ],
   "source": [
    "acc_diff = df[\"Accuracy Difference\"]\n",
    "acc_diff.describe()"
   ]
  },
  {
   "cell_type": "code",
   "execution_count": 52,
   "id": "19dbb453-1fe1-4462-8b9c-0d97ed936821",
   "metadata": {},
   "outputs": [
    {
     "data": {
      "text/plain": [
       "(np.float64(-0.03480000000000005), np.float64(0.05380499999999996))"
      ]
     },
     "execution_count": 52,
     "metadata": {},
     "output_type": "execute_result"
    }
   ],
   "source": [
    "acc_diff.quantile(0.05), acc_diff.quantile(0.95)"
   ]
  },
  {
   "cell_type": "code",
   "execution_count": 55,
   "id": "1a0deea9-1e9c-4b36-8522-c05f3a1e8e6a",
   "metadata": {},
   "outputs": [
    {
     "data": {
      "text/plain": [
       "np.float64(0.7283333333333334)"
      ]
     },
     "execution_count": 55,
     "metadata": {},
     "output_type": "execute_result"
    }
   ],
   "source": [
    "(acc_diff > 0).sum() / len(acc_diff)"
   ]
  },
  {
   "cell_type": "code",
   "execution_count": 95,
   "id": "a22b848e-ad54-41c1-8a7f-5c2ce5fec3b1",
   "metadata": {},
   "outputs": [
    {
     "data": {
      "text/plain": [
       "np.float64(0.43333333333333335)"
      ]
     },
     "execution_count": 95,
     "metadata": {},
     "output_type": "execute_result"
    }
   ],
   "source": [
    "(acc_diff > 0.02).sum() / len(acc_diff)"
   ]
  },
  {
   "cell_type": "code",
   "execution_count": 92,
   "id": "ecbe3ec6-aba2-49e6-b9c3-0fd6873f6cbe",
   "metadata": {},
   "outputs": [
    {
     "name": "stdout",
     "output_type": "stream",
     "text": [
      "Mean difference: 1.5%\n",
      "95% Confidence Interval: (1.2%, 1.7%)\n"
     ]
    }
   ],
   "source": [
    "import scipy.stats\n",
    "mean_diff = np.mean(acc_diff)\n",
    "sem_diff = scipy.stats.sem(acc_diff)\n",
    "ci = scipy.stats.t.interval(0.95, df=len(acc_diff)-1, loc=mean_diff, scale=sem_diff)\n",
    "print(f\"Mean difference: {mean_diff:.1%}\")\n",
    "print(f\"95% Confidence Interval: ({ci[0]:.1%}, {ci[1]:.1%})\")"
   ]
  },
  {
   "cell_type": "code",
   "execution_count": 49,
   "id": "ae122fbd-55cc-4640-8b9f-db5e7eea7ec3",
   "metadata": {},
   "outputs": [],
   "source": [
    "import matplotlib\n",
    "matplotlib.rcParams['figure.dpi'] = 120\n",
    "matplotlib.rcParams['font.family'] = \"serif\""
   ]
  },
  {
   "cell_type": "code",
   "execution_count": null,
   "id": "ff44b944-6a96-41c8-a5c6-58611113630b",
   "metadata": {},
   "outputs": [],
   "source": [
    "results = []"
   ]
  },
  {
   "cell_type": "code",
   "execution_count": 94,
   "id": "92a83fbe-6bfd-4687-a3c7-744a71e31391",
   "metadata": {},
   "outputs": [
    {
     "data": {
      "image/png": "[encoded data removed]",
      "text/plain": [
       "<Figure size 480x240 with 1 Axes>"
      ]
     },
     "metadata": {
      "image/png": {
       "height": 223,
       "width": 464
      }
     },
     "output_type": "display_data"
    }
   ],
   "source": [
    "fig, ax = plt.subplots(1, 1, figsize=(4, 2))\n",
    "\n",
    "ax.hist(acc_diff, bins=np.linspace(-0.08, 0.08, num=32), color=matplotlib.cm.viridis(0.28149))\n",
    "\n",
    "ax.set_ylabel(\"Simulation Count\")\n",
    "ax.set_xlabel(\"Benchmark Accuracy - True Accuracy\")\n",
    "ax.axvline(0, color=\"black\")\n",
    "ax.set_ylim((0, 75))\n",
    "ax.text(-0.01, ax.get_ylim()[1] * 0.95, \"True > Benchmark\", ha=\"right\", va=\"top\", fontsize=9)\n",
    "ax.text(0.01, ax.get_ylim()[1] * 0.95, \"Benchmark > True\", ha=\"left\", va=\"top\", fontsize=9)\n",
    "\n",
    "\n",
    "ax.xaxis.set_major_formatter(matplotlib.ticker.FuncFormatter(lambda y, pos: f\"{y:.1%}\"))\n",
    "\n",
    "fig.tight_layout(pad=1.16)\n",
    "fig.savefig(\"overfitting_sim_hist_n600.svg\", transparent=False)\n",
    "plt.show()"
   ]
  },
  {
   "cell_type": "code",
   "execution_count": null,
   "id": "24867b06-fbeb-48e4-9af6-7a0a0925c258",
   "metadata": {},
   "outputs": [],
   "source": []
  },
  {
   "cell_type": "code",
   "execution_count": null,
   "id": "146d8cfe-b6b6-4f06-a00f-44d3b840e5e9",
   "metadata": {},
   "outputs": [],
   "source": []
  },
  {
   "cell_type": "code",
   "execution_count": null,
   "id": "9afe7dda-cb65-4294-ad74-ce854e68bdc7",
   "metadata": {},
   "outputs": [],
   "source": []
  }
 ],
 "metadata": {
  "kernelspec": {
   "display_name": "Python 3 (ipykernel)",
   "language": "python",
   "name": "python3"
  },
  "language_info": {
   "codemirror_mode": {
    "name": "ipython",
    "version": 3
   },
   "file_extension": ".py",
   "mimetype": "text/x-python",
   "name": "python",
   "nbconvert_exporter": "python",
   "pygments_lexer": "ipython3",
   "version": "3.13.0"
  }
 },
 "nbformat": 4,
 "nbformat_minor": 5
}
