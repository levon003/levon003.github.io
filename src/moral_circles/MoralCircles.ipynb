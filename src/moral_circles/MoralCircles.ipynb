{
 "cells": [
  {
   "cell_type": "markdown",
   "id": "76022c62-63d3-43e0-b768-c33af31ec95e",
   "metadata": {},
   "source": [
    "Moral Circles\n",
    "==="
   ]
  },
  {
   "cell_type": "code",
   "execution_count": 28,
   "id": "7cb45efa-9536-4233-b7e1-91318a11f24e",
   "metadata": {
    "tags": []
   },
   "outputs": [],
   "source": [
    "import numpy as np\n",
    "import pandas as pd\n",
    "import matplotlib\n",
    "import matplotlib.cm\n",
    "import matplotlib.pyplot as plt"
   ]
  },
  {
   "cell_type": "code",
   "execution_count": 2,
   "id": "eae949ba-433e-4bbb-804f-077c925a0c88",
   "metadata": {
    "tags": []
   },
   "outputs": [],
   "source": [
    "matplotlib.rcParams['figure.dpi'] = 150"
   ]
  },
  {
   "cell_type": "code",
   "execution_count": 3,
   "id": "cfdb39cb-4f51-4c56-8613-06b8d55577f6",
   "metadata": {},
   "outputs": [
    {
     "data": {
      "text/plain": [
       "6"
      ]
     },
     "execution_count": 3,
     "metadata": {},
     "output_type": "execute_result"
    }
   ],
   "source": [
    "dfs = pd.read_excel(\"waytz_2019_source_data.xlsx\", sheet_name=None)\n",
    "len(dfs)"
   ]
  },
  {
   "cell_type": "code",
   "execution_count": 4,
   "id": "6d35ff2d-cb40-4e0b-b6e4-10886300cb21",
   "metadata": {},
   "outputs": [
    {
     "data": {
      "text/plain": [
       "dict_keys(['Figure 1', 'Figure 2', 'Figure 3', 'Figure 4', 'Figure 5', 'Figure 6'])"
      ]
     },
     "execution_count": 4,
     "metadata": {},
     "output_type": "execute_result"
    }
   ],
   "source": [
    "dfs.keys()"
   ]
  },
  {
   "cell_type": "code",
   "execution_count": 5,
   "id": "ed5dd9aa-67f8-4f1c-ba42-ac80d0413572",
   "metadata": {},
   "outputs": [
    {
     "data": {
      "text/plain": [
       "((131, 3), (131, 3))"
      ]
     },
     "execution_count": 5,
     "metadata": {},
     "output_type": "execute_result"
    }
   ],
   "source": [
    "df4 = dfs[\"Figure 4\"]\n",
    "df5 = dfs[\"Figure 5\"]\n",
    "df4.shape, df5.shape"
   ]
  },
  {
   "cell_type": "code",
   "execution_count": 6,
   "id": "c92a3273-f87a-44e2-84d1-9b2a7fd0370d",
   "metadata": {},
   "outputs": [
    {
     "data": {
      "text/html": [
       "<div>\n",
       "<style scoped>\n",
       "    .dataframe tbody tr th:only-of-type {\n",
       "        vertical-align: middle;\n",
       "    }\n",
       "\n",
       "    .dataframe tbody tr th {\n",
       "        vertical-align: top;\n",
       "    }\n",
       "\n",
       "    .dataframe thead th {\n",
       "        text-align: right;\n",
       "    }\n",
       "</style>\n",
       "<table border=\"1\" class=\"dataframe\">\n",
       "  <thead>\n",
       "    <tr style=\"text-align: right;\">\n",
       "      <th></th>\n",
       "      <th>political ideology</th>\n",
       "      <th>human</th>\n",
       "      <th>nonhuman</th>\n",
       "    </tr>\n",
       "  </thead>\n",
       "  <tbody>\n",
       "    <tr>\n",
       "      <th>0</th>\n",
       "      <td>5</td>\n",
       "      <td>9.666667</td>\n",
       "      <td>1.857143</td>\n",
       "    </tr>\n",
       "    <tr>\n",
       "      <th>1</th>\n",
       "      <td>4</td>\n",
       "      <td>9.777778</td>\n",
       "      <td>1.714286</td>\n",
       "    </tr>\n",
       "  </tbody>\n",
       "</table>\n",
       "</div>"
      ],
      "text/plain": [
       "   political ideology     human  nonhuman\n",
       "0                   5  9.666667  1.857143\n",
       "1                   4  9.777778  1.714286"
      ]
     },
     "execution_count": 6,
     "metadata": {},
     "output_type": "execute_result"
    }
   ],
   "source": [
    "df4.head(2)"
   ]
  },
  {
   "cell_type": "code",
   "execution_count": 7,
   "id": "6111a908-3faf-492a-95bb-1f95d035954d",
   "metadata": {
    "tags": []
   },
   "outputs": [],
   "source": [
    "df4 = df4.rename(columns={\"political ideology\": \"political_ideology\"})"
   ]
  },
  {
   "cell_type": "code",
   "execution_count": 10,
   "id": "1c70c4fb-21d5-42b3-acdd-4325b381a5e0",
   "metadata": {
    "tags": []
   },
   "outputs": [
    {
     "name": "stdout",
     "output_type": "stream",
     "text": [
      "|   political_ideology |   count |\n",
      "|---------------------:|--------:|\n",
      "|                    1 |      11 |\n",
      "|                    2 |      35 |\n",
      "|                    3 |      18 |\n",
      "|                    4 |      31 |\n",
      "|                    5 |      10 |\n",
      "|                    6 |      16 |\n",
      "|                    7 |      10 |\n"
     ]
    }
   ],
   "source": [
    "# for the blog post: a markdown table with detailed ideology breakdown\n",
    "print(df4.political_ideology.value_counts().sort_index().to_markdown())"
   ]
  },
  {
   "cell_type": "code",
   "execution_count": 56,
   "id": "ab78021a-76e6-429d-985d-c20dfba227cf",
   "metadata": {
    "tags": []
   },
   "outputs": [
    {
     "data": {
      "image/png": "[encoded data removed]",
      "text/plain": [
       "<Figure size 750x450 with 1 Axes>"
      ]
     },
     "metadata": {},
     "output_type": "display_data"
    }
   ],
   "source": [
    "fig, ax = plt.subplots(1, 1, figsize=(5, 3))\n",
    "\n",
    "\n",
    "political_ideologies = np.array([1, 2, 3, 4, 5, 6, 7])\n",
    "#ax.violinplot(\n",
    "#    [df4[df4.political_ideology == p].human for p in political_ideologies],\n",
    "#    showmeans=True,\n",
    "#)\n",
    "#ax.violinplot(\n",
    "#    [df4[df4.political_ideology == p].nonhuman for p in political_ideologies],\n",
    "#    showmeans=True,\n",
    "#)\n",
    "for category, color in (\n",
    "    (\"human\", matplotlib.cm.viridis(0.1)), \n",
    "    (\"nonhuman\", matplotlib.cm.viridis(0.76))):\n",
    "    alphacolor = list(color)\n",
    "    alphacolor[-1] = 0.3\n",
    "    bplot= ax.boxplot(\n",
    "        [df4[df4.political_ideology == p][category] for p in political_ideologies],\n",
    "        meanline=False,\n",
    "        patch_artist=True,\n",
    "        flierprops={\"markeredgecolor\": alphacolor},\n",
    "    )\n",
    "    for key in bplot.keys():\n",
    "        for patch in bplot[key]:\n",
    "            if key in [\"means\", \"boxes\"]:\n",
    "                patch.set_edgecolor(color)\n",
    "                patch.set_facecolor(alphacolor)\n",
    "            elif key == \"medians\":\n",
    "                patch.set_color(color)\n",
    "            else:\n",
    "                patch.set_color(alphacolor)\n",
    "\n",
    "plt.show()"
   ]
  },
  {
   "cell_type": "code",
   "execution_count": null,
   "id": "6e5782b3-3fe0-4392-b10d-a2fbb38cf5b3",
   "metadata": {
    "tags": []
   },
   "outputs": [],
   "source": []
  },
  {
   "cell_type": "code",
   "execution_count": null,
   "id": "bd511dd9-c945-4e9d-8408-753bf2600f3a",
   "metadata": {
    "tags": []
   },
   "outputs": [],
   "source": []
  },
  {
   "cell_type": "code",
   "execution_count": null,
   "id": "f773ecd0-4488-47e5-911d-6b7c00f007aa",
   "metadata": {},
   "outputs": [],
   "source": []
  },
  {
   "cell_type": "code",
   "execution_count": null,
   "id": "851a874d-abe7-4c91-b44a-c134121a76a4",
   "metadata": {},
   "outputs": [],
   "source": []
  },
  {
   "cell_type": "code",
   "execution_count": null,
   "id": "56d6a49d-57ad-4301-a092-dd224c875222",
   "metadata": {},
   "outputs": [],
   "source": []
  },
  {
   "cell_type": "code",
   "execution_count": null,
   "id": "2773abda-b756-433e-8f33-81637ff6a91f",
   "metadata": {},
   "outputs": [],
   "source": []
  }
 ],
 "metadata": {
  "kernelspec": {
   "display_name": "Python 3 (ipykernel)",
   "language": "python",
   "name": "python3"
  },
  "language_info": {
   "codemirror_mode": {
    "name": "ipython",
    "version": 3
   },
   "file_extension": ".py",
   "mimetype": "text/x-python",
   "name": "python",
   "nbconvert_exporter": "python",
   "pygments_lexer": "ipython3",
   "version": "3.11.2"
  }
 },
 "nbformat": 4,
 "nbformat_minor": 5
}
