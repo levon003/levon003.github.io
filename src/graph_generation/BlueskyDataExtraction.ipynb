{
 "cells": [
  {
   "cell_type": "markdown",
   "id": "3c3aa75d-5c18-4024-9b5a-8b907b7a7b64",
   "metadata": {},
   "source": [
    "Blueksy Data Extraction\n",
    "==="
   ]
  },
  {
   "cell_type": "code",
   "execution_count": 1,
   "id": "9b7bfcde-9ee8-4c0e-8876-81ce24608048",
   "metadata": {},
   "outputs": [],
   "source": [
    "import os\n",
    "import time\n",
    "\n",
    "import atproto\n",
    "import dotenv\n",
    "\n",
    "import pandas as pd\n",
    "from tqdm import tqdm"
   ]
  },
  {
   "cell_type": "code",
   "execution_count": 2,
   "id": "28726ffa-a622-40d2-85f5-34e9d537a5be",
   "metadata": {},
   "outputs": [
    {
     "data": {
      "text/plain": [
       "True"
      ]
     },
     "execution_count": 2,
     "metadata": {},
     "output_type": "execute_result"
    }
   ],
   "source": [
    "dotenv.load_dotenv()"
   ]
  },
  {
   "cell_type": "code",
   "execution_count": 3,
   "id": "864b3346-5ac4-4411-b0f8-25fa02440f8c",
   "metadata": {},
   "outputs": [],
   "source": [
    "client = atproto.Client()\n",
    "my_profile = client.login(os.environ[\"BLUESKY_USERNAME\"], os.environ[\"BLUESKY_PASSWORD\"])"
   ]
  },
  {
   "cell_type": "code",
   "execution_count": 5,
   "id": "da6d5db0-6099-4da5-a617-a2b061d6ed35",
   "metadata": {},
   "outputs": [
    {
     "data": {
      "text/plain": [
       "'did:plc:fi73esdhzesw3xdqtzfsmt3g'"
      ]
     },
     "execution_count": 5,
     "metadata": {},
     "output_type": "execute_result"
    }
   ],
   "source": [
    "my_profile.did"
   ]
  },
  {
   "cell_type": "code",
   "execution_count": 6,
   "id": "2eb980c7-9425-45b6-9a83-47e092848cbe",
   "metadata": {},
   "outputs": [],
   "source": [
    "response = client.app.bsky.graph.get_follows(params={\"actor\": my_profile.did, \"limit\": 100})"
   ]
  },
  {
   "cell_type": "code",
   "execution_count": 7,
   "id": "daa01093-b055-4ca6-a5fc-60239831e51a",
   "metadata": {},
   "outputs": [
    {
     "data": {
      "text/plain": [
       "ProfileView(did='did:plc:fi73esdhzesw3xdqtzfsmt3g', handle='zwlevonian.bsky.social', associated=ProfileAssociated(activity_subscription=ProfileAssociatedActivitySubscription(allow_subscriptions='followers', py_type='app.bsky.actor.defs#profileAssociatedActivitySubscription'), chat=ProfileAssociatedChat(allow_incoming='all', py_type='app.bsky.actor.defs#profileAssociatedChat'), feedgens=None, labeler=None, lists=None, starter_packs=None, py_type='app.bsky.actor.defs#profileAssociated'), avatar='https://cdn.bsky.app/img/avatar/plain/did:plc:fi73esdhzesw3xdqtzfsmt3g/bafkreibltowtb7wydjvuet5yesfkb5bx7tnt3skmhlijowfo65wnvdkdxe@jpeg', created_at='2024-02-06T18:35:24.863Z', description='Human–computer interaction researcher. PhD from University of Minnesota. Tacoma, WA. Mastodon: zwlevonian@hci.social', display_name='Zach Levonian', indexed_at='2025-08-14T17:28:19.099Z', labels=[], status=None, verification=None, viewer=ViewerState(activity_subscription=None, blocked_by=False, blocking=None, blocking_by_list=None, followed_by=None, following=None, known_followers=None, muted=False, muted_by_list=None, py_type='app.bsky.actor.defs#viewerState'), py_type='app.bsky.actor.defs#profileView')"
      ]
     },
     "execution_count": 7,
     "metadata": {},
     "output_type": "execute_result"
    }
   ],
   "source": [
    "response.subject"
   ]
  },
  {
   "cell_type": "code",
   "execution_count": 8,
   "id": "221e6d8d-fa5b-49e6-84f2-70807091a70e",
   "metadata": {},
   "outputs": [],
   "source": [
    "def get_all(get_function, params: dict, list_key: str, limit: int = 100):\n",
    "    params = params.copy()\n",
    "    params[\"limit\"] = limit\n",
    "    items = []\n",
    "    cursor = None\n",
    "    while True:\n",
    "        params[\"cursor\"] = cursor\n",
    "        response = get_function(\n",
    "            params=params\n",
    "        )\n",
    "        items.extend(getattr(response, list_key))\n",
    "        if response.cursor is None:\n",
    "            break\n",
    "        cursor = response.cursor\n",
    "    return items\n",
    "\n",
    "def get_all_follows(client: atproto.Client, actor: str):\n",
    "    return get_all(client.app.bsky.graph.get_follows, params={'actor': actor}, list_key=\"follows\")\n",
    "\n",
    "def get_all_followers(client: atproto.Client, actor: str):\n",
    "    return get_all(client.app.bsky.graph.get_followers, params={'actor': actor}, list_key=\"followers\")\n",
    "    "
   ]
  },
  {
   "cell_type": "code",
   "execution_count": 11,
   "id": "0775d42c-9381-40c3-bd0c-c57e5ab53f3e",
   "metadata": {},
   "outputs": [
    {
     "data": {
      "text/plain": [
       "1219"
      ]
     },
     "execution_count": 11,
     "metadata": {},
     "output_type": "execute_result"
    }
   ],
   "source": [
    "follows = get_all_follows(client, profile.did)\n",
    "len(follows)"
   ]
  },
  {
   "cell_type": "code",
   "execution_count": 24,
   "id": "a00c5611-241f-46da-8bc6-2a07e22349a6",
   "metadata": {},
   "outputs": [
    {
     "data": {
      "text/plain": [
       "300"
      ]
     },
     "execution_count": 24,
     "metadata": {},
     "output_type": "execute_result"
    }
   ],
   "source": [
    "followers = get_all_followers(client, profile.did)\n",
    "len(followers)"
   ]
  },
  {
   "cell_type": "code",
   "execution_count": 22,
   "id": "cf2f4f5f-94f1-4e6a-91c2-917411e99bc4",
   "metadata": {},
   "outputs": [
    {
     "data": {
      "text/plain": [
       "ProfileView(did='did:plc:2mkgbhbhqvappkkorf2bzyrp', handle='jasonschreier.bsky.social', associated=ProfileAssociated(activity_subscription=ProfileAssociatedActivitySubscription(allow_subscriptions='followers', py_type='app.bsky.actor.defs#profileAssociatedActivitySubscription'), chat=ProfileAssociatedChat(allow_incoming='following', py_type='app.bsky.actor.defs#profileAssociatedChat'), feedgens=None, labeler=None, lists=None, starter_packs=None, py_type='app.bsky.actor.defs#profileAssociated'), avatar='https://cdn.bsky.app/img/avatar/plain/did:plc:2mkgbhbhqvappkkorf2bzyrp/bafkreib2xnu5b2a3r3qrsva2loml45jiclpbsn7id4wywsimyo5xhjva7m@jpeg', created_at='2023-04-27T14:10:37.690Z', description='Reporter at Bloomberg | co-host of Triple Click | New York Times bestselling author of Play Nice + Press Reset + Blood, Sweat, and Pixels | jschreier@gmail.com', display_name='Jason Schreier', indexed_at='2025-04-17T13:30:38.973Z', labels=[], status=None, verification=VerificationState(trusted_verifier_status='none', verifications=[VerificationView(created_at='2025-07-11T19:21:20.490Z', is_valid=True, issuer='did:plc:z72i7hdynmk6r22z27h6tvur', uri='at://did:plc:z72i7hdynmk6r22z27h6tvur/app.bsky.graph.verification/3ltpkvkl6dx2e', py_type='app.bsky.actor.defs#verificationView')], verified_status='valid', py_type='app.bsky.actor.defs#verificationState'), viewer=ViewerState(activity_subscription=None, blocked_by=False, blocking=None, blocking_by_list=None, followed_by=None, following='at://did:plc:fi73esdhzesw3xdqtzfsmt3g/app.bsky.graph.follow/3lwykye3b6t2l', known_followers=None, muted=False, muted_by_list=None, py_type='app.bsky.actor.defs#viewerState'), py_type='app.bsky.actor.defs#profileView')"
      ]
     },
     "execution_count": 22,
     "metadata": {},
     "output_type": "execute_result"
    }
   ],
   "source": [
    "follows[0]"
   ]
  },
  {
   "cell_type": "code",
   "execution_count": 28,
   "id": "7aa88ec9-1971-4313-a6ac-fa9db9da373b",
   "metadata": {},
   "outputs": [
    {
     "data": {
      "text/plain": [
       "182"
      ]
     },
     "execution_count": 28,
     "metadata": {},
     "output_type": "execute_result"
    }
   ],
   "source": [
    "follow_dids = {profile.did for profile in follows}\n",
    "follower_dids = {profile.did for profile in followers}\n",
    "mutuals = follow_dids & follower_dids\n",
    "len(mutuals)"
   ]
  },
  {
   "cell_type": "code",
   "execution_count": 10,
   "id": "ae41c5c3-6bd4-4e03-b417-4dfd614d7b83",
   "metadata": {},
   "outputs": [
    {
     "name": "stderr",
     "output_type": "stream",
     "text": [
      "100%|███████████████████████████████████████████████████████████████████████████████████████████████████████| 182/182 [3:14:49<00:00, 64.23s/it]\n"
     ]
    }
   ],
   "source": [
    "my_follows = get_all_follows(client, my_profile.did)\n",
    "my_followers = get_all_followers(client, my_profile.did)\n",
    "my_follow_dids = {profile.did for profile in my_follows}\n",
    "my_follower_dids = {profile.did for profile in my_followers}\n",
    "mutuals = my_follow_dids & my_follower_dids\n",
    "ds = []\n",
    "for mutual in tqdm(mutuals):\n",
    "    follows = get_all_follows(client, mutual)\n",
    "    followers = get_all_followers(client, mutual)\n",
    "    follow_dids = {profile.did for profile in follows}\n",
    "    follower_dids = {profile.did for profile in followers}\n",
    "    their_mutuals = follow_dids & follower_dids\n",
    "    ds.append({\n",
    "        \"mutual\": mutual,\n",
    "        \"n_follows\": len(follows),\n",
    "        \"n_followers\": len(followers),\n",
    "        \"n_mutuals\": len(their_mutuals),\n",
    "    })\n",
    "    time.sleep(60)  # laziest possible way to deal with the rate limit\n",
    "df = pd.DataFrame(ds)"
   ]
  },
  {
   "cell_type": "code",
   "execution_count": 14,
   "id": "5245a139-c52a-4dff-88c6-3a63e9ae9065",
   "metadata": {},
   "outputs": [
    {
     "data": {
      "text/plain": [
       "(182, np.float64(663.1593406593406), np.float64(216.5))"
      ]
     },
     "execution_count": 14,
     "metadata": {},
     "output_type": "execute_result"
    }
   ],
   "source": [
    "len(my_follow_dids & my_follower_dids), df.n_mutuals.mean(), df.n_mutuals.median()"
   ]
  },
  {
   "cell_type": "code",
   "execution_count": null,
   "id": "72e53970-9385-4c33-8112-315e8b69ff06",
   "metadata": {},
   "outputs": [],
   "source": []
  },
  {
   "cell_type": "code",
   "execution_count": null,
   "id": "67efe664-db87-4abf-a0ab-f8d52a6867ab",
   "metadata": {},
   "outputs": [],
   "source": []
  }
 ],
 "metadata": {
  "kernelspec": {
   "display_name": "Python 3 (ipykernel)",
   "language": "python",
   "name": "python3"
  },
  "language_info": {
   "codemirror_mode": {
    "name": "ipython",
    "version": 3
   },
   "file_extension": ".py",
   "mimetype": "text/x-python",
   "name": "python",
   "nbconvert_exporter": "python",
   "pygments_lexer": "ipython3",
   "version": "3.13.7"
  }
 },
 "nbformat": 4,
 "nbformat_minor": 5
}
