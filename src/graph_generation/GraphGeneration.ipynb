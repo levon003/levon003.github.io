{
 "cells": [
  {
   "cell_type": "markdown",
   "id": "7cda0775-f486-4389-84b4-cf246da8ad2e",
   "metadata": {},
   "source": [
    "Graph generation\n",
    "===\n",
    "\n",
    "\"On average, most people have fewer friends than their friends have.\""
   ]
  },
  {
   "cell_type": "code",
   "execution_count": 82,
   "id": "67c09f3c-a484-4b33-8dff-a1a44e90589f",
   "metadata": {},
   "outputs": [],
   "source": [
    "from pathlib import Path\n",
    "\n",
    "import networkx as nx\n",
    "import numpy as np\n",
    "import pandas as pd\n",
    "import matplotlib.pyplot as plt\n",
    "import scipy.stats\n",
    "from tqdm import tqdm"
   ]
  },
  {
   "cell_type": "code",
   "execution_count": 69,
   "id": "409392a7-6543-4164-bc07-cc68ba045c44",
   "metadata": {},
   "outputs": [],
   "source": [
    "figures_dir = Path(\"../../images/graph_generation\")\n",
    "figures_dir.mkdir(exist_ok=True)"
   ]
  },
  {
   "cell_type": "code",
   "execution_count": 31,
   "id": "514b64b3-223b-4032-b0a3-07da91f988ec",
   "metadata": {},
   "outputs": [
    {
     "data": {
      "text/plain": [
       "(57, 5, 38)"
      ]
     },
     "execution_count": 31,
     "metadata": {},
     "output_type": "execute_result"
    }
   ],
   "source": [
    "def investigate_friend_count(G: nx.Graph):\n",
    "    degree_map = G.degree\n",
    "    n_friends_have_more = 0\n",
    "    n_friends_have_same = 0\n",
    "    n_friends_have_less = 0\n",
    "    for node, degree in degree_map:\n",
    "        friend_count = degree\n",
    "        friends = list(G.neighbors(node))\n",
    "        assert len(friends) == friend_count\n",
    "        n_same_count = 0\n",
    "        n_more_than_friend_count = 0\n",
    "        n_less_than_friend_count = 0\n",
    "        for friend in friends:\n",
    "            their_friends = degree_map[friend]\n",
    "            if their_friends == friend_count:\n",
    "                n_same_count += 1\n",
    "            elif their_friends > friend_count:\n",
    "                n_less_than_friend_count += 1\n",
    "            elif their_friends < friend_count:\n",
    "                n_more_than_friend_count += 1\n",
    "        if n_less_than_friend_count > n_more_than_friend_count:\n",
    "            n_friends_have_more += 1\n",
    "        elif n_less_than_friend_count == n_more_than_friend_count:\n",
    "            n_friends_have_same += 1\n",
    "        elif n_less_than_friend_count < n_more_than_friend_count:\n",
    "            n_friends_have_less += 1\n",
    "    return n_friends_have_more, n_friends_have_same, n_friends_have_less\n",
    "            \n",
    "            \n",
    "            \n",
    "\n",
    "investigate_friend_count(G_er)"
   ]
  },
  {
   "cell_type": "code",
   "execution_count": null,
   "id": "e8f5d52e-2189-4d17-b562-87c89023e16d",
   "metadata": {},
   "outputs": [],
   "source": [
    "# Erdős–Rényi (a.k.a. Gilbert G(n,p))\n",
    "G_er = nx.erdos_renyi_graph(n=100, p=0.05)\n",
    "\n",
    "# Watts–Strogatz small-world\n",
    "G_ws = nx.watts_strogatz_graph(n=100, k=4, p=0.1)\n",
    "\n",
    "# Barabási–Albert preferential attachment\n",
    "G_ba = nx.barabasi_albert_graph(n=100, m=3)\n",
    "\n",
    "# Holme–Kim preferential attachment with triadic closure\n",
    "G_hk = nx.powerlaw_cluster_graph(n=100, m=3, p=0.3)"
   ]
  },
  {
   "cell_type": "code",
   "execution_count": null,
   "id": "1676d534-e342-46d9-bb7b-1fe530bc64f5",
   "metadata": {},
   "outputs": [],
   "source": [
    "for n in np.logra"
   ]
  },
  {
   "cell_type": "code",
   "execution_count": 100,
   "id": "ad5a6fc5-64aa-4129-b515-944a363135b2",
   "metadata": {},
   "outputs": [
    {
     "name": "stderr",
     "output_type": "stream",
     "text": [
      "100%|███████████████████████████████████████████████████████████████████████████████████████████████████████████| 50/50 [00:32<00:00,  1.55it/s]\n"
     ]
    },
    {
     "data": {
      "text/plain": [
       "(1400, 4)"
      ]
     },
     "execution_count": 100,
     "metadata": {},
     "output_type": "execute_result"
    }
   ],
   "source": [
    "ns = np.logspace(6, 11, base=2).astype(int)\n",
    "n_samples = 7\n",
    "ds = []\n",
    "\n",
    "graph_funcs = {\n",
    "    \"Erdős–Rényi ($p$=5%)\": lambda n: nx.erdos_renyi_graph(n=n, p=0.05),\n",
    "    \"Erdős–Rényi ($p$=10%)\": lambda n: nx.erdos_renyi_graph(n=n, p=0.1),\n",
    "    \"Watts–Strogatz\": lambda n: nx.watts_strogatz_graph(n=n, k=4, p=0.1),\n",
    "    \"Barabási–Albert\": lambda n: nx.barabasi_albert_graph(n=n, m=3),\n",
    "}\n",
    "\n",
    "for n in tqdm(ns):\n",
    "    for graph_name, graph_func in graph_funcs.items():\n",
    "        for i in range(n_samples):\n",
    "            G = graph_func(n)\n",
    "            n_friends_have_more, n_friends_have_same, n_friends_have_less = investigate_friend_count(G)\n",
    "            pct_more = n_friends_have_more / n\n",
    "            ds.append({\n",
    "                \"graph_name\": graph_name,\n",
    "                \"n\": n,\n",
    "                \"i\": i,\n",
    "                \"pct_more\": pct_more,\n",
    "            })\n",
    "df = pd.DataFrame(ds)\n",
    "df.shape"
   ]
  },
  {
   "cell_type": "code",
   "execution_count": 97,
   "id": "e6514929-70ad-4710-b10e-2b0c70c0aac3",
   "metadata": {},
   "outputs": [
    {
     "data": {
      "text/plain": [
       "graph_name       n \n",
       "Barabási–Albert  64    0.691964\n",
       "                 68    0.674370\n",
       "                 73    0.686888\n",
       "                 79    0.678119\n",
       "                 84    0.697279\n",
       "Name: pct_more, dtype: float64"
      ]
     },
     "execution_count": 97,
     "metadata": {},
     "output_type": "execute_result"
    }
   ],
   "source": [
    "df.groupby([\"graph_name\", \"n\"]).pct_more.mean().head(n=5)"
   ]
  },
  {
   "cell_type": "code",
   "execution_count": 98,
   "id": "fb506b4e-efee-4b0d-885c-8506c33b92b8",
   "metadata": {},
   "outputs": [
    {
     "data": {
      "text/html": [
       "<div>\n",
       "<style scoped>\n",
       "    .dataframe tbody tr th:only-of-type {\n",
       "        vertical-align: middle;\n",
       "    }\n",
       "\n",
       "    .dataframe tbody tr th {\n",
       "        vertical-align: top;\n",
       "    }\n",
       "\n",
       "    .dataframe thead th {\n",
       "        text-align: right;\n",
       "    }\n",
       "</style>\n",
       "<table border=\"1\" class=\"dataframe\">\n",
       "  <thead>\n",
       "    <tr style=\"text-align: right;\">\n",
       "      <th></th>\n",
       "      <th>graph_name</th>\n",
       "      <th>n</th>\n",
       "      <th>mean</th>\n",
       "      <th>std</th>\n",
       "      <th>count</th>\n",
       "      <th>se</th>\n",
       "      <th>ci_low</th>\n",
       "      <th>ci_high</th>\n",
       "    </tr>\n",
       "  </thead>\n",
       "  <tbody>\n",
       "    <tr>\n",
       "      <th>0</th>\n",
       "      <td>Barabási–Albert</td>\n",
       "      <td>64</td>\n",
       "      <td>0.691964</td>\n",
       "      <td>0.021565</td>\n",
       "      <td>7</td>\n",
       "      <td>0.008151</td>\n",
       "      <td>0.67202</td>\n",
       "      <td>0.711908</td>\n",
       "    </tr>\n",
       "  </tbody>\n",
       "</table>\n",
       "</div>"
      ],
      "text/plain": [
       "        graph_name   n      mean       std  count        se   ci_low   ci_high\n",
       "0  Barabási–Albert  64  0.691964  0.021565      7  0.008151  0.67202  0.711908"
      ]
     },
     "execution_count": 98,
     "metadata": {},
     "output_type": "execute_result"
    }
   ],
   "source": [
    "summary = (\n",
    "    df.groupby([\"graph_name\", \"n\"])[\"pct_more\"]\n",
    "    .agg([\"mean\", \"std\", \"count\"])\n",
    "    .assign(se=lambda d: d[\"std\"] / np.sqrt(d[\"count\"]))\n",
    ")\n",
    "\n",
    "# compute CI with scipy (normal approx)\n",
    "alpha = 0.05\n",
    "cis = scipy.stats.t.interval(1 - alpha, loc=summary[\"mean\"], scale=summary[\"se\"], df=summary[\"count\"] - 1)\n",
    "summary[\"ci_low\"], summary[\"ci_high\"] = cis\n",
    "summary = summary.reset_index()\n",
    "summary.head(1)"
   ]
  },
  {
   "cell_type": "code",
   "execution_count": null,
   "id": "83592858-5dfa-4705-b042-d7be4dc5ce22",
   "metadata": {},
   "outputs": [],
   "source": []
  },
  {
   "cell_type": "code",
   "execution_count": 99,
   "id": "663f3550-27d6-48d1-a98f-08ebeb22afd6",
   "metadata": {},
   "outputs": [
    {
     "data": {
      "image/png": "[encoded data removed]",
      "text/plain": [
       "<Figure size 500x300 with 1 Axes>"
      ]
     },
     "metadata": {},
     "output_type": "display_data"
    }
   ],
   "source": [
    "fig, ax = plt.subplots(1, 1, figsize=(5, 3))\n",
    "\n",
    "for i, graph_name in enumerate(graph_funcs.keys()):\n",
    "    sdf = summary[summary.graph_name == graph_name]\n",
    "    ax.plot(sdf.n, sdf[\"mean\"], color=f\"C{i}\", label=graph_name)\n",
    "    ax.fill_between(sdf.n, sdf[\"ci_low\"], sdf[\"ci_high\"],\n",
    "                    alpha=0.3, color=f\"C{i}\")\n",
    "\n",
    "ax.set_xscale(\"log\", base=2)\n",
    "ax.set_xlabel(\"Network size\")\n",
    "ax.set_ylabel(\"% of network with\\n\\\"fewer friends than their friends\\\"\")\n",
    "ax.legend()\n",
    "fig.tight_layout()\n",
    "fig.savefig(figures_dir / \"er_size.svg\", bbox_inches='tight', \n",
    "           facecolor='white', edgecolor='none', metadata={\"Creator\": \"Zachary Levonian\"}, transparent=False)\n",
    "plt.show()"
   ]
  },
  {
   "cell_type": "code",
   "execution_count": null,
   "id": "5ce03866-7be2-4fb7-bc58-fb8c507bc5de",
   "metadata": {},
   "outputs": [],
   "source": []
  }
 ],
 "metadata": {
  "kernelspec": {
   "display_name": "Python 3 (ipykernel)",
   "language": "python",
   "name": "python3"
  },
  "language_info": {
   "codemirror_mode": {
    "name": "ipython",
    "version": 3
   },
   "file_extension": ".py",
   "mimetype": "text/x-python",
   "name": "python",
   "nbconvert_exporter": "python",
   "pygments_lexer": "ipython3",
   "version": "3.13.7"
  }
 },
 "nbformat": 4,
 "nbformat_minor": 5
}
