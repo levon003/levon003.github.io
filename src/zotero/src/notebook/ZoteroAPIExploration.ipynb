{
 "cells": [
  {
   "cell_type": "markdown",
   "id": "3a363b32-4d8b-48de-88e3-b51c000078ba",
   "metadata": {},
   "source": [
    "Zotero API\n",
    "===\n",
    "\n",
    "https://www.zotero.org/support/dev/web_api/v3/basics"
   ]
  },
  {
   "cell_type": "code",
   "execution_count": 2,
   "id": "a31a6370-b1ae-4c2f-8f99-4fb39cd0cf4a",
   "metadata": {},
   "outputs": [
    {
     "ename": "ModuleNotFoundError",
     "evalue": "No module named 'dotenv'",
     "output_type": "error",
     "traceback": [
      "\u001b[31m---------------------------------------------------------------------------\u001b[39m",
      "\u001b[31mModuleNotFoundError\u001b[39m                       Traceback (most recent call last)",
      "\u001b[36mCell\u001b[39m\u001b[36m \u001b[39m\u001b[32mIn[2]\u001b[39m\u001b[32m, line 2\u001b[39m\n\u001b[32m      1\u001b[39m \u001b[38;5;28;01mimport\u001b[39;00m\u001b[38;5;250m \u001b[39m\u001b[34;01mrequests\u001b[39;00m\n\u001b[32m----> \u001b[39m\u001b[32m2\u001b[39m \u001b[38;5;28;01mimport\u001b[39;00m\u001b[38;5;250m \u001b[39m\u001b[34;01mdotenv\u001b[39;00m\n",
      "\u001b[31mModuleNotFoundError\u001b[39m: No module named 'dotenv'"
     ]
    }
   ],
   "source": [
    "import os\n",
    "import requests\n",
    "import dotenv"
   ]
  },
  {
   "cell_type": "code",
   "execution_count": 3,
   "id": "2d67639b-4e1c-4e94-a1ea-44fd42d355c9",
   "metadata": {},
   "outputs": [
    {
     "ename": "NameError",
     "evalue": "name 'dotenv' is not defined",
     "output_type": "error",
     "traceback": [
      "\u001b[31m---------------------------------------------------------------------------\u001b[39m",
      "\u001b[31mNameError\u001b[39m                                 Traceback (most recent call last)",
      "\u001b[36mCell\u001b[39m\u001b[36m \u001b[39m\u001b[32mIn[3]\u001b[39m\u001b[32m, line 1\u001b[39m\n\u001b[32m----> \u001b[39m\u001b[32m1\u001b[39m \u001b[43mdotenv\u001b[49m.load_dotenv(\u001b[33m\"\u001b[39m\u001b[33m../../.env\u001b[39m\u001b[33m\"\u001b[39m)\n",
      "\u001b[31mNameError\u001b[39m: name 'dotenv' is not defined"
     ]
    }
   ],
   "source": [
    "dotenv.load_dotenv(\"../../.env\")"
   ]
  },
  {
   "cell_type": "code",
   "execution_count": null,
   "id": "31d8990d-43f6-4a94-8b38-631634ef8ad4",
   "metadata": {},
   "outputs": [],
   "source": [
    "headers = {\n",
    "    \"Zotero-API-Key\": os.environ[\"ZOTERO_API_KEY\"],\n",
    "    \"Zotero-API-Version\": \"3\",\n",
    "}"
   ]
  },
  {
   "cell_type": "code",
   "execution_count": null,
   "id": "7095c518-fdb9-46fd-91fa-9c1fed5d5113",
   "metadata": {},
   "outputs": [],
   "source": [
    "response = requests.get(, headers=headers)\n",
    "response.raise_for_status()"
   ]
  },
  {
   "cell_type": "code",
   "execution_count": null,
   "id": "dc736797-8ff7-4633-a7ab-fc831d672673",
   "metadata": {},
   "outputs": [],
   "source": []
  }
 ],
 "metadata": {
  "kernelspec": {
   "display_name": "Python 3 (ipykernel)",
   "language": "python",
   "name": "python3"
  },
  "language_info": {
   "codemirror_mode": {
    "name": "ipython",
    "version": 3
   },
   "file_extension": ".py",
   "mimetype": "text/x-python",
   "name": "python",
   "nbconvert_exporter": "python",
   "pygments_lexer": "ipython3",
   "version": "3.13.2"
  }
 },
 "nbformat": 4,
 "nbformat_minor": 5
}
