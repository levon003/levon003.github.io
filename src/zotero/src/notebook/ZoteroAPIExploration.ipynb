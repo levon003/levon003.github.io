{
 "cells": [
  {
   "cell_type": "markdown",
   "id": "3a363b32-4d8b-48de-88e3-b51c000078ba",
   "metadata": {},
   "source": [
    "Zotero API\n",
    "===\n",
    "\n",
    "https://www.zotero.org/support/dev/web_api/v3/basics"
   ]
  },
  {
   "cell_type": "code",
   "execution_count": 1,
   "id": "a31a6370-b1ae-4c2f-8f99-4fb39cd0cf4a",
   "metadata": {},
   "outputs": [],
   "source": [
    "import os\n",
    "import requests\n",
    "import dotenv"
   ]
  },
  {
   "cell_type": "code",
   "execution_count": 2,
   "id": "2d67639b-4e1c-4e94-a1ea-44fd42d355c9",
   "metadata": {},
   "outputs": [
    {
     "data": {
      "text/plain": [
       "True"
      ]
     },
     "execution_count": 2,
     "metadata": {},
     "output_type": "execute_result"
    }
   ],
   "source": [
    "dotenv.load_dotenv(\"../../.env\")"
   ]
  },
  {
   "cell_type": "code",
   "execution_count": 3,
   "id": "31d8990d-43f6-4a94-8b38-631634ef8ad4",
   "metadata": {},
   "outputs": [],
   "source": [
    "headers = {\n",
    "    \"Zotero-API-Key\": os.environ[\"ZOTERO_API_KEY\"],\n",
    "    \"Zotero-API-Version\": \"3\",\n",
    "}"
   ]
  },
  {
   "cell_type": "code",
   "execution_count": 6,
   "id": "7095c518-fdb9-46fd-91fa-9c1fed5d5113",
   "metadata": {},
   "outputs": [
    {
     "data": {
      "text/plain": [
       "14"
      ]
     },
     "execution_count": 6,
     "metadata": {},
     "output_type": "execute_result"
    }
   ],
   "source": [
    "response = requests.get(\"https://api.zotero.org/groups/4946641/collections\", headers=headers)\n",
    "response.raise_for_status()\n",
    "results = response.json()\n",
    "len(results)"
   ]
  },
  {
   "cell_type": "code",
   "execution_count": 7,
   "id": "dc736797-8ff7-4633-a7ab-fc831d672673",
   "metadata": {},
   "outputs": [
    {
     "data": {
      "text/plain": [
       "{'key': 'E3NMGS5W',\n",
       " 'version': 436,\n",
       " 'library': {'type': 'group',\n",
       "  'id': 4946641,\n",
       "  'name': 'LEVI Shared Publications (Learning Engineering Virtual Institute)',\n",
       "  'links': {'alternate': {'href': 'https://www.zotero.org/groups/levi_shared_publications_learning_engineering_virtual_institute',\n",
       "    'type': 'text/html'}}},\n",
       " 'links': {'self': {'href': 'https://api.zotero.org/groups/4946641/collections/E3NMGS5W',\n",
       "   'type': 'application/json'},\n",
       "  'alternate': {'href': 'https://www.zotero.org/groups/levi_shared_publications_learning_engineering_virtual_institute/collections/E3NMGS5W',\n",
       "   'type': 'text/html'}},\n",
       " 'meta': {'numCollections': 0, 'numItems': 0},\n",
       " 'data': {'key': 'E3NMGS5W',\n",
       "  'version': 436,\n",
       "  'name': 'Public Goods (unsorted)',\n",
       "  'parentCollection': False,\n",
       "  'relations': {}}}"
      ]
     },
     "execution_count": 7,
     "metadata": {},
     "output_type": "execute_result"
    }
   ],
   "source": [
    "results[0]"
   ]
  },
  {
   "cell_type": "code",
   "execution_count": 12,
   "id": "f2d58581-12fd-4bed-8be0-ad379eaf43e6",
   "metadata": {},
   "outputs": [
    {
     "name": "stdout",
     "output_type": "stream",
     "text": [
      "       Public Goods (unsorted) E3NMGS5W False\n",
      "LEVI Research Results (public) WPJ2SUEA False\n",
      "                  LLM Analyses 47XAA742 False\n",
      "           Models / Techniques QWN3KQ8W False\n",
      "         Relevant work to LEVI GDEBJAEN False\n",
      "         evaluation-benchmarks FBHLYXBE False\n",
      "           math-misconceptions 8DIYINKP False\n",
      "                 doubling-goal UR4D9CVC False\n",
      "                      tutoring B7M4CC5J AQBGJQ9A\n",
      "           NeurIPS 2023 Papers UUQ2UEMV False\n",
      "              Research Roundup I429DFQN False\n",
      "    LEVI Teams - Other Results FF7AVWLS False\n",
      "                Other Research AQBGJQ9A False\n",
      "             LEVI Results 2024 8HE7UTZU False\n"
     ]
    }
   ],
   "source": [
    "for result in results:\n",
    "    data = result[\"data\"]\n",
    "    print(f\"{data['name']:>30} {data['key']} {data['parentCollection']}\")"
   ]
  },
  {
   "cell_type": "code",
   "execution_count": 15,
   "id": "8ff3f17c-3b3f-49ae-b700-ce766cca06a2",
   "metadata": {},
   "outputs": [
    {
     "data": {
      "text/plain": [
       "25"
      ]
     },
     "execution_count": 15,
     "metadata": {},
     "output_type": "execute_result"
    }
   ],
   "source": [
    "response = requests.get(\"https://api.zotero.org/groups/4946641/items\", params={\"sort\": \"dateAdded\"}, headers=headers)\n",
    "response.raise_for_status()\n",
    "results = response.json()\n",
    "len(results)"
   ]
  },
  {
   "cell_type": "code",
   "execution_count": 18,
   "id": "d7846b5a-6987-4b77-9951-268fe9b7e107",
   "metadata": {},
   "outputs": [
    {
     "data": {
      "text/plain": [
       "('184', '444')"
      ]
     },
     "execution_count": 18,
     "metadata": {},
     "output_type": "execute_result"
    }
   ],
   "source": [
    "response.headers[\"Total-Results\"], response.headers[\"Last-Modified-Version\"]"
   ]
  },
  {
   "cell_type": "code",
   "execution_count": 16,
   "id": "3f5b17b0-99c5-43f0-a811-acb49152a01f",
   "metadata": {},
   "outputs": [
    {
     "data": {
      "text/plain": [
       "{'key': 'R4FLFZGY',\n",
       " 'version': 444,\n",
       " 'library': {'type': 'group',\n",
       "  'id': 4946641,\n",
       "  'name': 'LEVI Shared Publications (Learning Engineering Virtual Institute)',\n",
       "  'links': {'alternate': {'href': 'https://www.zotero.org/groups/levi_shared_publications_learning_engineering_virtual_institute',\n",
       "    'type': 'text/html'}}},\n",
       " 'links': {'self': {'href': 'https://api.zotero.org/groups/4946641/items/R4FLFZGY',\n",
       "   'type': 'application/json'},\n",
       "  'alternate': {'href': 'https://www.zotero.org/groups/levi_shared_publications_learning_engineering_virtual_institute/items/R4FLFZGY',\n",
       "   'type': 'text/html'},\n",
       "  'attachment': {'href': 'https://api.zotero.org/groups/4946641/items/SBGQPPKN',\n",
       "   'type': 'application/json',\n",
       "   'attachmentType': 'application/pdf',\n",
       "   'attachmentSize': 15386237}},\n",
       " 'meta': {'createdByUser': {'id': 5155957,\n",
       "   'username': 'john-whitmer',\n",
       "   'name': 'JohnWhitmer',\n",
       "   'links': {'alternate': {'href': 'https://www.zotero.org/john-whitmer',\n",
       "     'type': 'text/html'}}},\n",
       "  'creatorSummary': 'Xing et al.',\n",
       "  'numChildren': 1},\n",
       " 'data': {'key': 'R4FLFZGY',\n",
       "  'version': 444,\n",
       "  'itemType': 'journalArticle',\n",
       "  'title': 'Investigating Knowledge Graphs as Structured External Memory to Enhance Large Language Models’ Generation for Mathematical Concept Answering',\n",
       "  'creators': [{'creatorType': 'author',\n",
       "    'firstName': 'Wanli',\n",
       "    'lastName': 'Xing'},\n",
       "   {'creatorType': 'author', 'firstName': 'Chenglu', 'lastName': 'Li'},\n",
       "   {'creatorType': 'author', 'firstName': 'Hai', 'lastName': 'Li'},\n",
       "   {'creatorType': 'author', 'firstName': 'Wangda', 'lastName': 'Zhu'},\n",
       "   {'creatorType': 'author', 'firstName': 'Bailing', 'lastName': 'Lyu'},\n",
       "   {'creatorType': 'author', 'firstName': 'Zeyu', 'lastName': 'Yan'}],\n",
       "  'abstractNote': '',\n",
       "  'publicationTitle': '',\n",
       "  'volume': '',\n",
       "  'issue': '',\n",
       "  'pages': '',\n",
       "  'date': '',\n",
       "  'series': '',\n",
       "  'seriesTitle': '',\n",
       "  'seriesText': '',\n",
       "  'journalAbbreviation': '',\n",
       "  'language': 'en',\n",
       "  'DOI': '',\n",
       "  'ISSN': '',\n",
       "  'shortTitle': '',\n",
       "  'url': '',\n",
       "  'accessDate': '',\n",
       "  'archive': '',\n",
       "  'archiveLocation': '',\n",
       "  'libraryCatalog': 'Zotero',\n",
       "  'callNumber': '',\n",
       "  'rights': '',\n",
       "  'extra': '',\n",
       "  'tags': [],\n",
       "  'collections': ['FF7AVWLS'],\n",
       "  'relations': {},\n",
       "  'dateAdded': '2025-04-17T17:07:45Z',\n",
       "  'dateModified': '2025-04-17T17:07:45Z'}}"
      ]
     },
     "execution_count": 16,
     "metadata": {},
     "output_type": "execute_result"
    }
   ],
   "source": [
    "results[0]"
   ]
  },
  {
   "cell_type": "code",
   "execution_count": null,
   "id": "36ede00c-926c-4e3d-85af-db69f66946c9",
   "metadata": {},
   "outputs": [],
   "source": []
  },
  {
   "cell_type": "code",
   "execution_count": null,
   "id": "aa50e7c6-625f-49c7-b050-f95f577d4e97",
   "metadata": {},
   "outputs": [],
   "source": []
  }
 ],
 "metadata": {
  "kernelspec": {
   "display_name": "Python 3 (ipykernel)",
   "language": "python",
   "name": "python3"
  },
  "language_info": {
   "codemirror_mode": {
    "name": "ipython",
    "version": 3
   },
   "file_extension": ".py",
   "mimetype": "text/x-python",
   "name": "python",
   "nbconvert_exporter": "python",
   "pygments_lexer": "ipython3",
   "version": "3.13.2"
  }
 },
 "nbformat": 4,
 "nbformat_minor": 5
}
