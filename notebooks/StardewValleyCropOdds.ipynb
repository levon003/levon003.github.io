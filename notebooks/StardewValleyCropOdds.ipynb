{
 "cells": [
  {
   "cell_type": "markdown",
   "id": "657f2df5-c652-497c-88c9-5bb84be19a07",
   "metadata": {},
   "source": [
    "## Stardew Valley Analysis\n",
    "\n",
    "What is the probability of having a particular amount of money in Stardew Valley?\n",
    "This post was prompted by [this Reddit post](https://reddit.com/r/StardewValley/comments/1amkxs3/what_are_the_odds/) on r/StardewValley.\n",
    "\n",
    "Image: stardew_valley_reddit_post.png\n",
    "**\"Just casually playing then got a perfect $111,111\" What are the odds of having exactly 111,111 gold during normal play?**\n",
    "\n",
    "The first thing to notice about this problem is that it's determined by how you play the game. \n",
    "In Stardew Valley, you generally gain gold by selling items and lose gold by buying items. \n",
    "So, the amount of gold you have is some function of the items you have, the items you want, the items you can buy, and the gold you have.\n",
    "\n",
    "To determine the probability of having a particular amount of money, we could attempt to model the changes to your gold amount by observing your play, but in my opinion that won't lead to a very satisfying answer. Instead, I might like to reason in reverse: if I adopted a particular style of play, how likely is it that I would stumble onto a particular gold total? This approach ignores individual play differences and focuses on the likelihood of a particular gold total relative to other gold totals given assumptions about playstyle.\n",
    "\n",
    "To answer the question, I'll use a highly simplified play model:\n",
    " - The player never decreases their money total. In other words, we will ignore all player purchases e.g. seeds. Getting to a special number \"from above\" is less exciting than getting to it from below!\n",
    " - The player will only make money by selling the 30 [crops](https://stardewvalleywiki.com/Crops) for which the player can buy seeds from Pierre/JojaMart.\n",
    " - The player will sell crops one at a time. (In other words, the player doesn't sell in bulk using the bin.)\n",
    " - The player is farming level 1 and doesn't use fertilizer. (That means no Iridium-quality crops will appear.)\n",
    " - The player has access to a stockpile of all crops and will sell crops out of season.\n",
    "\n",
    "[`pandas`](https://pandas.pydata.org/) uses [`lxml`](https://lxml.de/)\n"
   ]
  },
  {
   "cell_type": "code",
   "execution_count": 192,
   "id": "84eb4c7d-e525-4ced-b03a-de69f4f7d99b",
   "metadata": {},
   "outputs": [],
   "source": [
    "import numpy as np\n",
    "import pandas as pd\n",
    "import matplotlib.pyplot as plt\n",
    "from tqdm import tqdm\n",
    "from scipy.stats import binomtest\n",
    "import matplotlib"
   ]
  },
  {
   "cell_type": "code",
   "execution_count": null,
   "id": "a53da406-46d0-4a4e-8a34-47a5812b1850",
   "metadata": {},
   "outputs": [],
   "source": []
  },
  {
   "cell_type": "code",
   "execution_count": 5,
   "id": "9ca0d54a-6e67-4a2c-a616-6acca1a945a5",
   "metadata": {},
   "outputs": [
    {
     "data": {
      "text/plain": [
       "121"
      ]
     },
     "execution_count": 5,
     "metadata": {},
     "output_type": "execute_result"
    }
   ],
   "source": [
    "# first: \"Save Page As...\" to save the HTML of the Stardew Valley Wiki's Crops page https://stardewvalleywiki.com/Crops\n",
    "with open(\"data/raw/crops_stardew_valley_wiki.html\") as infile:\n",
    "    dfs = pd.read_html(infile)\n",
    "len(dfs)"
   ]
  },
  {
   "cell_type": "code",
   "execution_count": 9,
   "id": "29c42924-741f-495a-9943-d05fe06034a3",
   "metadata": {},
   "outputs": [
    {
     "data": {
      "text/html": [
       "<div>\n",
       "<style scoped>\n",
       "    .dataframe tbody tr th:only-of-type {\n",
       "        vertical-align: middle;\n",
       "    }\n",
       "\n",
       "    .dataframe tbody tr th {\n",
       "        vertical-align: top;\n",
       "    }\n",
       "\n",
       "    .dataframe thead th {\n",
       "        text-align: right;\n",
       "    }\n",
       "</style>\n",
       "<table border=\"1\" class=\"dataframe\">\n",
       "  <thead>\n",
       "    <tr style=\"text-align: right;\">\n",
       "      <th></th>\n",
       "      <th>Seeds</th>\n",
       "      <th>Stage 1</th>\n",
       "      <th>Stage 2</th>\n",
       "      <th>Stage 3</th>\n",
       "      <th>Stage 4</th>\n",
       "      <th>Harvest</th>\n",
       "      <th>Sells For</th>\n",
       "      <th>Energy / Health</th>\n",
       "      <th>Used In</th>\n",
       "    </tr>\n",
       "  </thead>\n",
       "  <tbody>\n",
       "    <tr>\n",
       "      <th>0</th>\n",
       "      <td>Jazz Seeds  Pierre's: 30g  JojaMart: 37g</td>\n",
       "      <td>NaN</td>\n",
       "      <td>NaN</td>\n",
       "      <td>NaN</td>\n",
       "      <td>NaN</td>\n",
       "      <td>NaN</td>\n",
       "      <td>.mw-parser-output .parent,.mw-parser-output .b...</td>\n",
       "      <td>45  20  63  28  81  36  117  52</td>\n",
       "      <td>.mw-parser-output .nametemplate{margin:2px 5px...</td>\n",
       "    </tr>\n",
       "    <tr>\n",
       "      <th>1</th>\n",
       "      <td>Jazz Seeds  Pierre's: 30g  JojaMart: 37g</td>\n",
       "      <td>.mw-parser-output .parent,.mw-parser-output .b...</td>\n",
       "      <td>50g</td>\n",
       "      <td>45  20  63  28  81  36  117  52</td>\n",
       "      <td>.mw-parser-output .nametemplate{margin:2px 5px...</td>\n",
       "      <td>NaN</td>\n",
       "      <td>NaN</td>\n",
       "      <td>NaN</td>\n",
       "      <td>NaN</td>\n",
       "    </tr>\n",
       "    <tr>\n",
       "      <th>2</th>\n",
       "      <td>NaN</td>\n",
       "      <td>62g</td>\n",
       "      <td>NaN</td>\n",
       "      <td>NaN</td>\n",
       "      <td>NaN</td>\n",
       "      <td>NaN</td>\n",
       "      <td>NaN</td>\n",
       "      <td>NaN</td>\n",
       "      <td>NaN</td>\n",
       "    </tr>\n",
       "    <tr>\n",
       "      <th>3</th>\n",
       "      <td>NaN</td>\n",
       "      <td>75g</td>\n",
       "      <td>NaN</td>\n",
       "      <td>NaN</td>\n",
       "      <td>NaN</td>\n",
       "      <td>NaN</td>\n",
       "      <td>NaN</td>\n",
       "      <td>NaN</td>\n",
       "      <td>NaN</td>\n",
       "    </tr>\n",
       "    <tr>\n",
       "      <th>4</th>\n",
       "      <td>NaN</td>\n",
       "      <td>100g</td>\n",
       "      <td>NaN</td>\n",
       "      <td>NaN</td>\n",
       "      <td>NaN</td>\n",
       "      <td>NaN</td>\n",
       "      <td>NaN</td>\n",
       "      <td>NaN</td>\n",
       "      <td>NaN</td>\n",
       "    </tr>\n",
       "    <tr>\n",
       "      <th>5</th>\n",
       "      <td>NaN</td>\n",
       "      <td>45</td>\n",
       "      <td>NaN</td>\n",
       "      <td>20</td>\n",
       "      <td>NaN</td>\n",
       "      <td>NaN</td>\n",
       "      <td>NaN</td>\n",
       "      <td>NaN</td>\n",
       "      <td>NaN</td>\n",
       "    </tr>\n",
       "    <tr>\n",
       "      <th>6</th>\n",
       "      <td>NaN</td>\n",
       "      <td>63</td>\n",
       "      <td>NaN</td>\n",
       "      <td>28</td>\n",
       "      <td>NaN</td>\n",
       "      <td>NaN</td>\n",
       "      <td>NaN</td>\n",
       "      <td>NaN</td>\n",
       "      <td>NaN</td>\n",
       "    </tr>\n",
       "    <tr>\n",
       "      <th>7</th>\n",
       "      <td>NaN</td>\n",
       "      <td>81</td>\n",
       "      <td>NaN</td>\n",
       "      <td>36</td>\n",
       "      <td>NaN</td>\n",
       "      <td>NaN</td>\n",
       "      <td>NaN</td>\n",
       "      <td>NaN</td>\n",
       "      <td>NaN</td>\n",
       "    </tr>\n",
       "    <tr>\n",
       "      <th>8</th>\n",
       "      <td>NaN</td>\n",
       "      <td>117</td>\n",
       "      <td>NaN</td>\n",
       "      <td>52</td>\n",
       "      <td>NaN</td>\n",
       "      <td>NaN</td>\n",
       "      <td>NaN</td>\n",
       "      <td>NaN</td>\n",
       "      <td>NaN</td>\n",
       "    </tr>\n",
       "    <tr>\n",
       "      <th>9</th>\n",
       "      <td>1 day</td>\n",
       "      <td>2 days</td>\n",
       "      <td>2 days</td>\n",
       "      <td>2 days</td>\n",
       "      <td>Total: 7 days</td>\n",
       "      <td>≈2.86g/d</td>\n",
       "      <td>NaN</td>\n",
       "      <td>NaN</td>\n",
       "      <td>NaN</td>\n",
       "    </tr>\n",
       "  </tbody>\n",
       "</table>\n",
       "</div>"
      ],
      "text/plain": [
       "                                      Seeds  \\\n",
       "0  Jazz Seeds  Pierre's: 30g  JojaMart: 37g   \n",
       "1  Jazz Seeds  Pierre's: 30g  JojaMart: 37g   \n",
       "2                                       NaN   \n",
       "3                                       NaN   \n",
       "4                                       NaN   \n",
       "5                                       NaN   \n",
       "6                                       NaN   \n",
       "7                                       NaN   \n",
       "8                                       NaN   \n",
       "9                                     1 day   \n",
       "\n",
       "                                             Stage 1 Stage 2  \\\n",
       "0                                                NaN     NaN   \n",
       "1  .mw-parser-output .parent,.mw-parser-output .b...     50g   \n",
       "2                                                62g     NaN   \n",
       "3                                                75g     NaN   \n",
       "4                                               100g     NaN   \n",
       "5                                                 45     NaN   \n",
       "6                                                 63     NaN   \n",
       "7                                                 81     NaN   \n",
       "8                                                117     NaN   \n",
       "9                                             2 days  2 days   \n",
       "\n",
       "                           Stage 3  \\\n",
       "0                              NaN   \n",
       "1  45  20  63  28  81  36  117  52   \n",
       "2                              NaN   \n",
       "3                              NaN   \n",
       "4                              NaN   \n",
       "5                               20   \n",
       "6                               28   \n",
       "7                               36   \n",
       "8                               52   \n",
       "9                           2 days   \n",
       "\n",
       "                                             Stage 4   Harvest  \\\n",
       "0                                                NaN       NaN   \n",
       "1  .mw-parser-output .nametemplate{margin:2px 5px...       NaN   \n",
       "2                                                NaN       NaN   \n",
       "3                                                NaN       NaN   \n",
       "4                                                NaN       NaN   \n",
       "5                                                NaN       NaN   \n",
       "6                                                NaN       NaN   \n",
       "7                                                NaN       NaN   \n",
       "8                                                NaN       NaN   \n",
       "9                                      Total: 7 days  ≈2.86g/d   \n",
       "\n",
       "                                           Sells For  \\\n",
       "0  .mw-parser-output .parent,.mw-parser-output .b...   \n",
       "1                                                NaN   \n",
       "2                                                NaN   \n",
       "3                                                NaN   \n",
       "4                                                NaN   \n",
       "5                                                NaN   \n",
       "6                                                NaN   \n",
       "7                                                NaN   \n",
       "8                                                NaN   \n",
       "9                                                NaN   \n",
       "\n",
       "                   Energy / Health  \\\n",
       "0  45  20  63  28  81  36  117  52   \n",
       "1                              NaN   \n",
       "2                              NaN   \n",
       "3                              NaN   \n",
       "4                              NaN   \n",
       "5                              NaN   \n",
       "6                              NaN   \n",
       "7                              NaN   \n",
       "8                              NaN   \n",
       "9                              NaN   \n",
       "\n",
       "                                             Used In  \n",
       "0  .mw-parser-output .nametemplate{margin:2px 5px...  \n",
       "1                                                NaN  \n",
       "2                                                NaN  \n",
       "3                                                NaN  \n",
       "4                                                NaN  \n",
       "5                                                NaN  \n",
       "6                                                NaN  \n",
       "7                                                NaN  \n",
       "8                                                NaN  \n",
       "9                                                NaN  "
      ]
     },
     "execution_count": 9,
     "metadata": {},
     "output_type": "execute_result"
    }
   ],
   "source": [
    "dfs[2]"
   ]
  },
  {
   "cell_type": "code",
   "execution_count": 17,
   "id": "a51dba71-0125-4781-b6fd-4c797f6c6fc6",
   "metadata": {},
   "outputs": [
    {
     "data": {
      "text/html": [
       "<div>\n",
       "<style scoped>\n",
       "    .dataframe tbody tr th:only-of-type {\n",
       "        vertical-align: middle;\n",
       "    }\n",
       "\n",
       "    .dataframe tbody tr th {\n",
       "        vertical-align: top;\n",
       "    }\n",
       "\n",
       "    .dataframe thead th {\n",
       "        text-align: right;\n",
       "    }\n",
       "</style>\n",
       "<table border=\"1\" class=\"dataframe\">\n",
       "  <thead>\n",
       "    <tr style=\"text-align: right;\">\n",
       "      <th></th>\n",
       "      <th>0</th>\n",
       "      <th>1</th>\n",
       "    </tr>\n",
       "  </thead>\n",
       "  <tbody>\n",
       "    <tr>\n",
       "      <th>0</th>\n",
       "      <td>.mw-parser-output .parent,.mw-parser-output .b...</td>\n",
       "      <td>50g</td>\n",
       "    </tr>\n",
       "    <tr>\n",
       "      <th>1</th>\n",
       "      <td>NaN</td>\n",
       "      <td>62g</td>\n",
       "    </tr>\n",
       "    <tr>\n",
       "      <th>2</th>\n",
       "      <td>NaN</td>\n",
       "      <td>75g</td>\n",
       "    </tr>\n",
       "    <tr>\n",
       "      <th>3</th>\n",
       "      <td>NaN</td>\n",
       "      <td>100g</td>\n",
       "    </tr>\n",
       "  </tbody>\n",
       "</table>\n",
       "</div>"
      ],
      "text/plain": [
       "                                                   0     1\n",
       "0  .mw-parser-output .parent,.mw-parser-output .b...   50g\n",
       "1                                                NaN   62g\n",
       "2                                                NaN   75g\n",
       "3                                                NaN  100g"
      ]
     },
     "execution_count": 17,
     "metadata": {},
     "output_type": "execute_result"
    }
   ],
   "source": [
    "dfs[3]"
   ]
  },
  {
   "cell_type": "code",
   "execution_count": 18,
   "id": "da837c52-468e-40ed-9b58-fd4bde329a50",
   "metadata": {},
   "outputs": [
    {
     "data": {
      "text/html": [
       "<div>\n",
       "<style scoped>\n",
       "    .dataframe tbody tr th:only-of-type {\n",
       "        vertical-align: middle;\n",
       "    }\n",
       "\n",
       "    .dataframe tbody tr th {\n",
       "        vertical-align: top;\n",
       "    }\n",
       "\n",
       "    .dataframe thead th {\n",
       "        text-align: right;\n",
       "    }\n",
       "</style>\n",
       "<table border=\"1\" class=\"dataframe\">\n",
       "  <thead>\n",
       "    <tr style=\"text-align: right;\">\n",
       "      <th></th>\n",
       "      <th>Seeds</th>\n",
       "      <th>Stage 1</th>\n",
       "      <th>Stage 2</th>\n",
       "      <th>Stage 3</th>\n",
       "      <th>Stage 4</th>\n",
       "      <th>Stage 5</th>\n",
       "      <th>Harvest</th>\n",
       "      <th>Sells For</th>\n",
       "      <th>Energy / Health</th>\n",
       "      <th>Used In</th>\n",
       "    </tr>\n",
       "  </thead>\n",
       "  <tbody>\n",
       "    <tr>\n",
       "      <th>0</th>\n",
       "      <td>Cauliflower Seeds  Pierre's: 80g  JojaMart: 100g</td>\n",
       "      <td>NaN</td>\n",
       "      <td>NaN</td>\n",
       "      <td>NaN</td>\n",
       "      <td>NaN</td>\n",
       "      <td>NaN</td>\n",
       "      <td>NaN</td>\n",
       "      <td>175g  218g  262g  350g</td>\n",
       "      <td>75  33  105  47  135  60  195  87</td>\n",
       "      <td>Cheese Cauliflower Spring Crops Bundle \"Jodi's...</td>\n",
       "    </tr>\n",
       "    <tr>\n",
       "      <th>1</th>\n",
       "      <td>Cauliflower Seeds  Pierre's: 80g  JojaMart: 100g</td>\n",
       "      <td>NaN</td>\n",
       "      <td>175g</td>\n",
       "      <td>75  33  105  47  135  60  195  87</td>\n",
       "      <td>Cheese Cauliflower Spring Crops Bundle \"Jodi's...</td>\n",
       "      <td>NaN</td>\n",
       "      <td>NaN</td>\n",
       "      <td>NaN</td>\n",
       "      <td>NaN</td>\n",
       "      <td>NaN</td>\n",
       "    </tr>\n",
       "    <tr>\n",
       "      <th>2</th>\n",
       "      <td>NaN</td>\n",
       "      <td>218g</td>\n",
       "      <td>NaN</td>\n",
       "      <td>NaN</td>\n",
       "      <td>NaN</td>\n",
       "      <td>NaN</td>\n",
       "      <td>NaN</td>\n",
       "      <td>NaN</td>\n",
       "      <td>NaN</td>\n",
       "      <td>NaN</td>\n",
       "    </tr>\n",
       "    <tr>\n",
       "      <th>3</th>\n",
       "      <td>NaN</td>\n",
       "      <td>262g</td>\n",
       "      <td>NaN</td>\n",
       "      <td>NaN</td>\n",
       "      <td>NaN</td>\n",
       "      <td>NaN</td>\n",
       "      <td>NaN</td>\n",
       "      <td>NaN</td>\n",
       "      <td>NaN</td>\n",
       "      <td>NaN</td>\n",
       "    </tr>\n",
       "    <tr>\n",
       "      <th>4</th>\n",
       "      <td>NaN</td>\n",
       "      <td>350g</td>\n",
       "      <td>NaN</td>\n",
       "      <td>NaN</td>\n",
       "      <td>NaN</td>\n",
       "      <td>NaN</td>\n",
       "      <td>NaN</td>\n",
       "      <td>NaN</td>\n",
       "      <td>NaN</td>\n",
       "      <td>NaN</td>\n",
       "    </tr>\n",
       "    <tr>\n",
       "      <th>5</th>\n",
       "      <td>NaN</td>\n",
       "      <td>75</td>\n",
       "      <td>NaN</td>\n",
       "      <td>33</td>\n",
       "      <td>NaN</td>\n",
       "      <td>NaN</td>\n",
       "      <td>NaN</td>\n",
       "      <td>NaN</td>\n",
       "      <td>NaN</td>\n",
       "      <td>NaN</td>\n",
       "    </tr>\n",
       "    <tr>\n",
       "      <th>6</th>\n",
       "      <td>NaN</td>\n",
       "      <td>105</td>\n",
       "      <td>NaN</td>\n",
       "      <td>47</td>\n",
       "      <td>NaN</td>\n",
       "      <td>NaN</td>\n",
       "      <td>NaN</td>\n",
       "      <td>NaN</td>\n",
       "      <td>NaN</td>\n",
       "      <td>NaN</td>\n",
       "    </tr>\n",
       "    <tr>\n",
       "      <th>7</th>\n",
       "      <td>NaN</td>\n",
       "      <td>135</td>\n",
       "      <td>NaN</td>\n",
       "      <td>60</td>\n",
       "      <td>NaN</td>\n",
       "      <td>NaN</td>\n",
       "      <td>NaN</td>\n",
       "      <td>NaN</td>\n",
       "      <td>NaN</td>\n",
       "      <td>NaN</td>\n",
       "    </tr>\n",
       "    <tr>\n",
       "      <th>8</th>\n",
       "      <td>NaN</td>\n",
       "      <td>195</td>\n",
       "      <td>NaN</td>\n",
       "      <td>87</td>\n",
       "      <td>NaN</td>\n",
       "      <td>NaN</td>\n",
       "      <td>NaN</td>\n",
       "      <td>NaN</td>\n",
       "      <td>NaN</td>\n",
       "      <td>NaN</td>\n",
       "    </tr>\n",
       "    <tr>\n",
       "      <th>9</th>\n",
       "      <td>1 day</td>\n",
       "      <td>2 days</td>\n",
       "      <td>4 days</td>\n",
       "      <td>4 days</td>\n",
       "      <td>1 day</td>\n",
       "      <td>Total: 12 days</td>\n",
       "      <td>≈7.92g/d</td>\n",
       "      <td>NaN</td>\n",
       "      <td>NaN</td>\n",
       "      <td>NaN</td>\n",
       "    </tr>\n",
       "  </tbody>\n",
       "</table>\n",
       "</div>"
      ],
      "text/plain": [
       "                                              Seeds Stage 1 Stage 2  \\\n",
       "0  Cauliflower Seeds  Pierre's: 80g  JojaMart: 100g     NaN     NaN   \n",
       "1  Cauliflower Seeds  Pierre's: 80g  JojaMart: 100g     NaN    175g   \n",
       "2                                               NaN    218g     NaN   \n",
       "3                                               NaN    262g     NaN   \n",
       "4                                               NaN    350g     NaN   \n",
       "5                                               NaN      75     NaN   \n",
       "6                                               NaN     105     NaN   \n",
       "7                                               NaN     135     NaN   \n",
       "8                                               NaN     195     NaN   \n",
       "9                                             1 day  2 days  4 days   \n",
       "\n",
       "                             Stage 3  \\\n",
       "0                                NaN   \n",
       "1  75  33  105  47  135  60  195  87   \n",
       "2                                NaN   \n",
       "3                                NaN   \n",
       "4                                NaN   \n",
       "5                                 33   \n",
       "6                                 47   \n",
       "7                                 60   \n",
       "8                                 87   \n",
       "9                             4 days   \n",
       "\n",
       "                                             Stage 4         Stage 5  \\\n",
       "0                                                NaN             NaN   \n",
       "1  Cheese Cauliflower Spring Crops Bundle \"Jodi's...             NaN   \n",
       "2                                                NaN             NaN   \n",
       "3                                                NaN             NaN   \n",
       "4                                                NaN             NaN   \n",
       "5                                                NaN             NaN   \n",
       "6                                                NaN             NaN   \n",
       "7                                                NaN             NaN   \n",
       "8                                                NaN             NaN   \n",
       "9                                              1 day  Total: 12 days   \n",
       "\n",
       "    Harvest               Sells For                    Energy / Health  \\\n",
       "0       NaN  175g  218g  262g  350g  75  33  105  47  135  60  195  87   \n",
       "1       NaN                     NaN                                NaN   \n",
       "2       NaN                     NaN                                NaN   \n",
       "3       NaN                     NaN                                NaN   \n",
       "4       NaN                     NaN                                NaN   \n",
       "5       NaN                     NaN                                NaN   \n",
       "6       NaN                     NaN                                NaN   \n",
       "7       NaN                     NaN                                NaN   \n",
       "8       NaN                     NaN                                NaN   \n",
       "9  ≈7.92g/d                     NaN                                NaN   \n",
       "\n",
       "                                             Used In  \n",
       "0  Cheese Cauliflower Spring Crops Bundle \"Jodi's...  \n",
       "1                                                NaN  \n",
       "2                                                NaN  \n",
       "3                                                NaN  \n",
       "4                                                NaN  \n",
       "5                                                NaN  \n",
       "6                                                NaN  \n",
       "7                                                NaN  \n",
       "8                                                NaN  \n",
       "9                                                NaN  "
      ]
     },
     "execution_count": 18,
     "metadata": {},
     "output_type": "execute_result"
    }
   ],
   "source": [
    "dfs[5]"
   ]
  },
  {
   "cell_type": "code",
   "execution_count": 37,
   "id": "acf151ba-8662-4b5a-8063-429186562d4d",
   "metadata": {},
   "outputs": [
    {
     "name": "stdout",
     "output_type": "stream",
     "text": [
      "Jazz [50, 62, 75]\n",
      "Cauliflower [175, 218, 262]\n",
      "Garlic [60, 75, 90]\n",
      "Bean [40, 50, 60]\n",
      "Kale [110, 137, 165]\n",
      "Parsnip [35, 43, 52]\n",
      "Potato [80, 100, 120]\n",
      "Tulip [30, 37, 45]\n",
      "Rice [30, 37, 45]\n",
      "Blueberry [50, 62, 75]\n",
      "Corn [50, 62, 75]\n",
      "Hops [25, 31, 37]\n",
      "Pepper [40, 50, 60]\n",
      "Melon [250, 312, 375]\n",
      "Poppy [140, 175, 210]\n",
      "Radish [90, 112, 135]\n",
      "Red [260, 325, 390]\n",
      "Spangle [90, 112, 135]\n",
      "Sunflower [80, 100, 120]\n",
      "Tomato [60, 75, 90]\n",
      "Wheat [25, 31, 37]\n",
      "Amaranth [150, 187, 225]\n",
      "Artichoke [160, 200, 240]\n",
      "Bok [80, 100, 120]\n",
      "Cranberry [75, 93, 112]\n",
      "Eggplant [60, 75, 90]\n",
      "Fairy [290, 362, 435]\n",
      "Grape [80, 100, 120]\n",
      "Pumpkin [320, 400, 480]\n",
      "Yam [160, 200, 240]\n"
     ]
    }
   ],
   "source": [
    "found_eligible_crop = False\n",
    "all_prices = []\n",
    "for df in dfs[2:]:\n",
    "    has_seeds_column = \"Seeds\" in df.columns\n",
    "    if has_seeds_column and (\"Pierre\" in df[\"Seeds\"].iloc[0] or \"Pierre\" in df[\"Seeds\"].iloc[1]):\n",
    "        crop_name = df[\"Seeds\"].iloc[0].split()[0]\n",
    "        found_eligible_crop = True\n",
    "    elif found_eligible_crop:\n",
    "        assert len(df) == 4\n",
    "        assert len(df.columns) == 2\n",
    "        prices = df.iloc[0:3, 1]\n",
    "        assert [price.endswith(\"g\") for price in prices]\n",
    "        prices = [int(price[:-1]) for price in prices]\n",
    "        print(crop_name, prices)\n",
    "        all_prices.append(prices)\n",
    "        found_eligible_crop = False\n",
    "    else:\n",
    "        found_eligible_crop = False"
   ]
  },
  {
   "cell_type": "code",
   "execution_count": 35,
   "id": "ad3d85fe-bce2-4234-a273-52bc526f3aeb",
   "metadata": {},
   "outputs": [
    {
     "data": {
      "text/plain": [
       "(0.030000000000000006, 0.06000000000000001, 0.9099999999999999)"
      ]
     },
     "execution_count": 35,
     "metadata": {},
     "output_type": "execute_result"
    }
   ],
   "source": [
    "farming_level = 1\n",
    "fertilizer_level = 0\n",
    "gold_prob = 0.2 * (farming_level / 10) + 0.2 * (fertilizer_level) * ((farming_level + 2) / 12) + 0.01\n",
    "silver_prob = gold_prob * 2\n",
    "basic_prob = 1 - (gold_prob + silver_prob)\n",
    "gold_prob, silver_prob, basic_prob"
   ]
  },
  {
   "cell_type": "code",
   "execution_count": 36,
   "id": "15d6efc2-e6b9-4887-9cd7-2c4fc4290af1",
   "metadata": {},
   "outputs": [],
   "source": [
    "gold_prob, silver_prob, basic_prob = 0.03, 0.06, 0.91"
   ]
  },
  {
   "cell_type": "code",
   "execution_count": 40,
   "id": "4823aae7-c1fc-4015-9471-42b4383a3d70",
   "metadata": {},
   "outputs": [
    {
     "data": {
      "text/plain": [
       "(30, 3)"
      ]
     },
     "execution_count": 40,
     "metadata": {},
     "output_type": "execute_result"
    }
   ],
   "source": [
    "prices = np.array(all_prices)\n",
    "prices.shape"
   ]
  },
  {
   "cell_type": "code",
   "execution_count": 42,
   "id": "646ee4c4-af82-4269-9190-2c10d287f194",
   "metadata": {},
   "outputs": [
    {
     "data": {
      "text/plain": [
       "array([[ 50,  62,  75],\n",
       "       [175, 218, 262],\n",
       "       [ 60,  75,  90],\n",
       "       [ 40,  50,  60],\n",
       "       [110, 137, 165],\n",
       "       [ 35,  43,  52],\n",
       "       [ 80, 100, 120],\n",
       "       [ 30,  37,  45],\n",
       "       [ 30,  37,  45],\n",
       "       [ 50,  62,  75],\n",
       "       [ 50,  62,  75],\n",
       "       [ 25,  31,  37],\n",
       "       [ 40,  50,  60],\n",
       "       [250, 312, 375],\n",
       "       [140, 175, 210],\n",
       "       [ 90, 112, 135],\n",
       "       [260, 325, 390],\n",
       "       [ 90, 112, 135],\n",
       "       [ 80, 100, 120],\n",
       "       [ 60,  75,  90],\n",
       "       [ 25,  31,  37],\n",
       "       [150, 187, 225],\n",
       "       [160, 200, 240],\n",
       "       [ 80, 100, 120],\n",
       "       [ 75,  93, 112],\n",
       "       [ 60,  75,  90],\n",
       "       [290, 362, 435],\n",
       "       [ 80, 100, 120],\n",
       "       [320, 400, 480],\n",
       "       [160, 200, 240]])"
      ]
     },
     "execution_count": 42,
     "metadata": {},
     "output_type": "execute_result"
    }
   ],
   "source": [
    "prices"
   ]
  },
  {
   "cell_type": "markdown",
   "id": "9a5845b7-8942-448b-a8d1-2f1466fecab4",
   "metadata": {},
   "source": [
    "## Sampling and simulation"
   ]
  },
  {
   "cell_type": "code",
   "execution_count": 43,
   "id": "44de1aac-97b3-4e5d-b421-95efe507fc85",
   "metadata": {},
   "outputs": [],
   "source": [
    "rng = np.random.default_rng(506275)"
   ]
  },
  {
   "cell_type": "code",
   "execution_count": 51,
   "id": "37aff1bf-6c13-465a-ad19-026bb721fc33",
   "metadata": {},
   "outputs": [
    {
     "data": {
      "text/plain": [
       "0    0.909825\n",
       "1    0.060144\n",
       "2    0.030031\n",
       "Name: count, dtype: float64"
      ]
     },
     "execution_count": 51,
     "metadata": {},
     "output_type": "execute_result"
    }
   ],
   "source": [
    "n = 10000000\n",
    "crop_qualities = rng.choice([0, 1, 2], size=n, p=[basic_prob, silver_prob, gold_prob])\n",
    "pd.Series(crop_qualities).value_counts() / n"
   ]
  },
  {
   "cell_type": "code",
   "execution_count": 56,
   "id": "88d3a93a-c3c5-4704-824a-2faa6f306398",
   "metadata": {},
   "outputs": [
    {
     "data": {
      "text/plain": [
       "30"
      ]
     },
     "execution_count": 56,
     "metadata": {},
     "output_type": "execute_result"
    }
   ],
   "source": [
    "n_crops = prices.shape[0]\n",
    "n_crops"
   ]
  },
  {
   "cell_type": "code",
   "execution_count": 91,
   "id": "5bed00c1-7347-44f8-9835-f997e97bdabb",
   "metadata": {},
   "outputs": [
    {
     "data": {
      "text/plain": [
       "100000000"
      ]
     },
     "execution_count": 91,
     "metadata": {},
     "output_type": "execute_result"
    }
   ],
   "source": [
    "n = 100000000\n",
    "# crop sold \n",
    "crops = rng.integers(0, n_crops, size=n)\n",
    "qualities = rng.choice([0, 1, 2], size=n, p=[basic_prob, silver_prob, gold_prob])\n",
    "sales = prices[crops, qualities]\n",
    "len(sales)"
   ]
  },
  {
   "cell_type": "code",
   "execution_count": 95,
   "id": "3ae6eec7-eb47-4547-8c1e-30a0866cff5f",
   "metadata": {},
   "outputs": [
    {
     "name": "stdout",
     "output_type": "stream",
     "text": [
      "Of 1070303, 9968 were successful (0.931%)\n"
     ]
    }
   ],
   "source": [
    "target_value = 10000\n",
    "total_gold = 0\n",
    "runs = []\n",
    "run = []\n",
    "for sale in sales:\n",
    "    total_gold += sale\n",
    "    run.append(sale)\n",
    "    if total_gold >= target_value:\n",
    "        runs.append(np.cumsum(run))\n",
    "        total_gold = 0\n",
    "        run = []\n",
    "n_successful_runs = sum([run[-1] == target_value for run in runs])\n",
    "n_runs = len(runs)\n",
    "print(f\"Of {n_runs} runs, {n_successful_runs} were successful ({n_successful_runs / n_runs:.3%})\")"
   ]
  },
  {
   "cell_type": "code",
   "execution_count": 105,
   "id": "cb49a5b7-b1e7-4b46-adf1-dc474ac56a1e",
   "metadata": {},
   "outputs": [
    {
     "data": {
      "image/png": "[encoded data removed]",
      "text/plain": [
       "<Figure size 600x300 with 1 Axes>"
      ]
     },
     "metadata": {},
     "output_type": "display_data"
    }
   ],
   "source": [
    "fig, ax = plt.subplots(1, 1, figsize=(6, 3))\n",
    "\n",
    "for i in rng.choice(np.arange(len(runs)), replace=False, size=1000):\n",
    "    run = runs[i]\n",
    "    ys = run\n",
    "    xs = np.arange(len(ys))\n",
    "    hit_target_value = run[-1] == target_value\n",
    "    ax.plot(xs, ys, color=\"black\" if not hit_target_value else \"green\", alpha=0.05 if not hit_target_value else 0.9)\n",
    "\n",
    "ax.set_xlabel(\"Number of crops sold\")\n",
    "ax.set_ylabel(\"Total gold\")\n",
    "\n",
    "fig.tight_layout()\n",
    "#fig.savefig(\"data/\")\n",
    "plt.show()"
   ]
  },
  {
   "cell_type": "code",
   "execution_count": null,
   "id": "e57361d6-f9ed-4292-88c5-5dfeff9de9b5",
   "metadata": {},
   "outputs": [],
   "source": []
  },
  {
   "cell_type": "code",
   "execution_count": null,
   "id": "c1a28a20-7628-423c-bf53-07da2a52667f",
   "metadata": {},
   "outputs": [],
   "source": []
  },
  {
   "cell_type": "code",
   "execution_count": null,
   "id": "48124373-d298-4882-b816-95cb3d3acabf",
   "metadata": {},
   "outputs": [],
   "source": []
  },
  {
   "cell_type": "code",
   "execution_count": 112,
   "id": "fa79f912-646f-4815-8b26-d44db623b5d0",
   "metadata": {},
   "outputs": [
    {
     "name": "stderr",
     "output_type": "stream",
     "text": [
      "Found 0 runs: 100%|███████████████████████████████████████████████████████████████████████████████████████████| 100000000/100000000 [00:15<00:00, 6585964.87it/s]\n"
     ]
    },
    {
     "name": "stdout",
     "output_type": "stream",
     "text": [
      "Of 97083 runs, 874 were successful (0.900%)\n"
     ]
    },
    {
     "name": "stderr",
     "output_type": "stream",
     "text": [
      "Found 97083 runs: 100%|███████████████████████████████████████████████████████████████████████████████████████| 100000000/100000000 [00:15<00:00, 6354798.57it/s]\n"
     ]
    },
    {
     "name": "stdout",
     "output_type": "stream",
     "text": [
      "Of 194163 runs, 1862 were successful (0.959%)\n"
     ]
    },
    {
     "name": "stderr",
     "output_type": "stream",
     "text": [
      "Found 194163 runs: 100%|██████████████████████████████████████████████████████████████████████████████████████| 100000000/100000000 [00:15<00:00, 6439510.78it/s]\n"
     ]
    },
    {
     "name": "stdout",
     "output_type": "stream",
     "text": [
      "Of 291250 runs, 2726 were successful (0.936%)\n"
     ]
    },
    {
     "name": "stderr",
     "output_type": "stream",
     "text": [
      "Found 291250 runs: 100%|██████████████████████████████████████████████████████████████████████████████████████| 100000000/100000000 [00:15<00:00, 6445907.22it/s]\n"
     ]
    },
    {
     "name": "stdout",
     "output_type": "stream",
     "text": [
      "Of 388329 runs, 3640 were successful (0.937%)\n"
     ]
    },
    {
     "name": "stderr",
     "output_type": "stream",
     "text": [
      "Found 388329 runs: 100%|██████████████████████████████████████████████████████████████████████████████████████| 100000000/100000000 [00:15<00:00, 6404081.80it/s]\n"
     ]
    },
    {
     "name": "stdout",
     "output_type": "stream",
     "text": [
      "Of 485421 runs, 4512 were successful (0.930%)\n"
     ]
    },
    {
     "name": "stderr",
     "output_type": "stream",
     "text": [
      "Found 485421 runs: 100%|██████████████████████████████████████████████████████████████████████████████████████| 100000000/100000000 [00:15<00:00, 6451679.99it/s]\n"
     ]
    },
    {
     "name": "stdout",
     "output_type": "stream",
     "text": [
      "Of 582513 runs, 5392 were successful (0.926%)\n"
     ]
    },
    {
     "name": "stderr",
     "output_type": "stream",
     "text": [
      "Found 582513 runs: 100%|██████████████████████████████████████████████████████████████████████████████████████| 100000000/100000000 [00:15<00:00, 6443136.65it/s]\n"
     ]
    },
    {
     "name": "stdout",
     "output_type": "stream",
     "text": [
      "Of 679600 runs, 6322 were successful (0.930%)\n"
     ]
    },
    {
     "name": "stderr",
     "output_type": "stream",
     "text": [
      "Found 679600 runs: 100%|██████████████████████████████████████████████████████████████████████████████████████| 100000000/100000000 [00:15<00:00, 6393528.82it/s]\n"
     ]
    },
    {
     "name": "stdout",
     "output_type": "stream",
     "text": [
      "Of 776692 runs, 7225 were successful (0.930%)\n"
     ]
    },
    {
     "name": "stderr",
     "output_type": "stream",
     "text": [
      "Found 776692 runs: 100%|██████████████████████████████████████████████████████████████████████████████████████| 100000000/100000000 [00:15<00:00, 6432514.45it/s]\n"
     ]
    },
    {
     "name": "stdout",
     "output_type": "stream",
     "text": [
      "Of 873775 runs, 8144 were successful (0.932%)\n"
     ]
    },
    {
     "name": "stderr",
     "output_type": "stream",
     "text": [
      "Found 873775 runs: 100%|██████████████████████████████████████████████████████████████████████████████████████| 100000000/100000000 [00:15<00:00, 6435167.48it/s]\n"
     ]
    },
    {
     "name": "stdout",
     "output_type": "stream",
     "text": [
      "Of 970856 runs, 9065 were successful (0.934%)\n"
     ]
    },
    {
     "name": "stderr",
     "output_type": "stream",
     "text": [
      "Found 970856 runs: 100%|██████████████████████████████████████████████████████████████████████████████████████| 100000000/100000000 [00:15<00:00, 6431123.67it/s]\n"
     ]
    },
    {
     "name": "stdout",
     "output_type": "stream",
     "text": [
      "Of 1067935 runs, 9954 were successful (0.932%)\n"
     ]
    },
    {
     "name": "stderr",
     "output_type": "stream",
     "text": [
      "Found 1067935 runs: 100%|█████████████████████████████████████████████████████████████████████████████████████| 100000000/100000000 [00:15<00:00, 6412074.50it/s]\n"
     ]
    },
    {
     "name": "stdout",
     "output_type": "stream",
     "text": [
      "Of 1165021 runs, 10855 were successful (0.932%)\n"
     ]
    },
    {
     "name": "stderr",
     "output_type": "stream",
     "text": [
      "Found 1165021 runs: 100%|█████████████████████████████████████████████████████████████████████████████████████| 100000000/100000000 [00:15<00:00, 6422487.13it/s]\n"
     ]
    },
    {
     "name": "stdout",
     "output_type": "stream",
     "text": [
      "Of 1262112 runs, 11760 were successful (0.932%)\n"
     ]
    },
    {
     "name": "stderr",
     "output_type": "stream",
     "text": [
      "Found 1262112 runs: 100%|█████████████████████████████████████████████████████████████████████████████████████| 100000000/100000000 [00:15<00:00, 6400112.21it/s]\n"
     ]
    },
    {
     "name": "stdout",
     "output_type": "stream",
     "text": [
      "Of 1359206 runs, 12664 were successful (0.932%)\n"
     ]
    },
    {
     "name": "stderr",
     "output_type": "stream",
     "text": [
      "Found 1359206 runs: 100%|█████████████████████████████████████████████████████████████████████████████████████| 100000000/100000000 [00:15<00:00, 6387539.35it/s]\n"
     ]
    },
    {
     "name": "stdout",
     "output_type": "stream",
     "text": [
      "Of 1456292 runs, 13576 were successful (0.932%)\n"
     ]
    },
    {
     "name": "stderr",
     "output_type": "stream",
     "text": [
      "Found 1456292 runs: 100%|█████████████████████████████████████████████████████████████████████████████████████| 100000000/100000000 [00:15<00:00, 6439779.02it/s]\n"
     ]
    },
    {
     "name": "stdout",
     "output_type": "stream",
     "text": [
      "Of 1553374 runs, 14496 were successful (0.933%)\n"
     ]
    },
    {
     "name": "stderr",
     "output_type": "stream",
     "text": [
      "Found 1553374 runs: 100%|█████████████████████████████████████████████████████████████████████████████████████| 100000000/100000000 [00:15<00:00, 6412222.42it/s]\n"
     ]
    },
    {
     "name": "stdout",
     "output_type": "stream",
     "text": [
      "Of 1650461 runs, 15362 were successful (0.931%)\n"
     ]
    },
    {
     "name": "stderr",
     "output_type": "stream",
     "text": [
      "Found 1650461 runs: 100%|█████████████████████████████████████████████████████████████████████████████████████| 100000000/100000000 [00:15<00:00, 6329441.64it/s]\n"
     ]
    },
    {
     "name": "stdout",
     "output_type": "stream",
     "text": [
      "Of 1747547 runs, 16265 were successful (0.931%)\n"
     ]
    },
    {
     "name": "stderr",
     "output_type": "stream",
     "text": [
      "Found 1747547 runs: 100%|█████████████████████████████████████████████████████████████████████████████████████| 100000000/100000000 [00:15<00:00, 6372853.91it/s]\n"
     ]
    },
    {
     "name": "stdout",
     "output_type": "stream",
     "text": [
      "Of 1844644 runs, 17146 were successful (0.930%)\n"
     ]
    },
    {
     "name": "stderr",
     "output_type": "stream",
     "text": [
      "Found 1844644 runs: 100%|█████████████████████████████████████████████████████████████████████████████████████| 100000000/100000000 [00:16<00:00, 6139707.09it/s]\n"
     ]
    },
    {
     "name": "stdout",
     "output_type": "stream",
     "text": [
      "Of 1941736 runs, 18024 were successful (0.928%)\n"
     ]
    },
    {
     "name": "stderr",
     "output_type": "stream",
     "text": [
      "Found 1941736 runs: 100%|█████████████████████████████████████████████████████████████████████████████████████| 100000000/100000000 [00:15<00:00, 6379519.75it/s]\n"
     ]
    },
    {
     "name": "stdout",
     "output_type": "stream",
     "text": [
      "Of 2038841 runs, 18875 were successful (0.926%)\n"
     ]
    },
    {
     "name": "stderr",
     "output_type": "stream",
     "text": [
      "Found 2038841 runs: 100%|█████████████████████████████████████████████████████████████████████████████████████| 100000000/100000000 [00:15<00:00, 6455037.03it/s]\n"
     ]
    },
    {
     "name": "stdout",
     "output_type": "stream",
     "text": [
      "Of 2135924 runs, 19755 were successful (0.925%)\n"
     ]
    },
    {
     "name": "stderr",
     "output_type": "stream",
     "text": [
      "Found 2135924 runs: 100%|█████████████████████████████████████████████████████████████████████████████████████| 100000000/100000000 [00:15<00:00, 6573168.63it/s]\n"
     ]
    },
    {
     "name": "stdout",
     "output_type": "stream",
     "text": [
      "Of 2233009 runs, 20655 were successful (0.925%)\n"
     ]
    },
    {
     "name": "stderr",
     "output_type": "stream",
     "text": [
      "Found 2233009 runs: 100%|█████████████████████████████████████████████████████████████████████████████████████| 100000000/100000000 [00:15<00:00, 6377611.60it/s]\n"
     ]
    },
    {
     "name": "stdout",
     "output_type": "stream",
     "text": [
      "Of 2330105 runs, 21559 were successful (0.925%)\n"
     ]
    },
    {
     "name": "stderr",
     "output_type": "stream",
     "text": [
      "Found 2330105 runs: 100%|█████████████████████████████████████████████████████████████████████████████████████| 100000000/100000000 [00:15<00:00, 6408342.50it/s]\n"
     ]
    },
    {
     "name": "stdout",
     "output_type": "stream",
     "text": [
      "Of 2427191 runs, 22470 were successful (0.926%)\n"
     ]
    },
    {
     "name": "stderr",
     "output_type": "stream",
     "text": [
      "Found 2427191 runs: 100%|█████████████████████████████████████████████████████████████████████████████████████| 100000000/100000000 [00:15<00:00, 6524622.93it/s]\n"
     ]
    },
    {
     "name": "stdout",
     "output_type": "stream",
     "text": [
      "Of 2524277 runs, 23334 were successful (0.924%)\n"
     ]
    },
    {
     "name": "stderr",
     "output_type": "stream",
     "text": [
      "Found 2524277 runs: 100%|█████████████████████████████████████████████████████████████████████████████████████| 100000000/100000000 [00:15<00:00, 6648938.30it/s]\n"
     ]
    },
    {
     "name": "stdout",
     "output_type": "stream",
     "text": [
      "Of 2621358 runs, 24215 were successful (0.924%)\n"
     ]
    },
    {
     "name": "stderr",
     "output_type": "stream",
     "text": [
      "Found 2621358 runs: 100%|█████████████████████████████████████████████████████████████████████████████████████| 100000000/100000000 [00:15<00:00, 6544343.74it/s]\n"
     ]
    },
    {
     "name": "stdout",
     "output_type": "stream",
     "text": [
      "Of 2718460 runs, 25116 were successful (0.924%)\n"
     ]
    },
    {
     "name": "stderr",
     "output_type": "stream",
     "text": [
      "Found 2718460 runs: 100%|█████████████████████████████████████████████████████████████████████████████████████| 100000000/100000000 [00:15<00:00, 6487952.56it/s]\n"
     ]
    },
    {
     "name": "stdout",
     "output_type": "stream",
     "text": [
      "Of 2815543 runs, 26053 were successful (0.925%)\n"
     ]
    },
    {
     "name": "stderr",
     "output_type": "stream",
     "text": [
      "Found 2815543 runs: 100%|█████████████████████████████████████████████████████████████████████████████████████| 100000000/100000000 [00:15<00:00, 6486484.25it/s]\n"
     ]
    },
    {
     "name": "stdout",
     "output_type": "stream",
     "text": [
      "Of 2912649 runs, 26927 were successful (0.924%)\n"
     ]
    },
    {
     "name": "stderr",
     "output_type": "stream",
     "text": [
      "Found 2912649 runs: 100%|█████████████████████████████████████████████████████████████████████████████████████| 100000000/100000000 [00:15<00:00, 6466150.07it/s]\n"
     ]
    },
    {
     "name": "stdout",
     "output_type": "stream",
     "text": [
      "Of 3009741 runs, 27829 were successful (0.925%)\n"
     ]
    },
    {
     "name": "stderr",
     "output_type": "stream",
     "text": [
      "Found 3009741 runs: 100%|█████████████████████████████████████████████████████████████████████████████████████| 100000000/100000000 [00:15<00:00, 6657175.77it/s]\n"
     ]
    },
    {
     "name": "stdout",
     "output_type": "stream",
     "text": [
      "Of 3106825 runs, 28699 were successful (0.924%)\n"
     ]
    },
    {
     "name": "stderr",
     "output_type": "stream",
     "text": [
      "Found 3106825 runs: 100%|█████████████████████████████████████████████████████████████████████████████████████| 100000000/100000000 [00:15<00:00, 6475260.68it/s]\n"
     ]
    },
    {
     "name": "stdout",
     "output_type": "stream",
     "text": [
      "Of 3203908 runs, 29613 were successful (0.924%)\n"
     ]
    },
    {
     "name": "stderr",
     "output_type": "stream",
     "text": [
      "Found 3203908 runs: 100%|█████████████████████████████████████████████████████████████████████████████████████| 100000000/100000000 [00:15<00:00, 6465367.83it/s]\n"
     ]
    },
    {
     "name": "stdout",
     "output_type": "stream",
     "text": [
      "Of 3300997 runs, 30522 were successful (0.925%)\n"
     ]
    },
    {
     "name": "stderr",
     "output_type": "stream",
     "text": [
      "Found 3300997 runs: 100%|█████████████████████████████████████████████████████████████████████████████████████| 100000000/100000000 [00:15<00:00, 6484828.19it/s]\n"
     ]
    },
    {
     "name": "stdout",
     "output_type": "stream",
     "text": [
      "Of 3398070 runs, 31494 were successful (0.927%)\n"
     ]
    },
    {
     "name": "stderr",
     "output_type": "stream",
     "text": [
      "Found 3398070 runs: 100%|█████████████████████████████████████████████████████████████████████████████████████| 100000000/100000000 [00:15<00:00, 6637794.41it/s]\n"
     ]
    },
    {
     "name": "stdout",
     "output_type": "stream",
     "text": [
      "Of 3495163 runs, 32371 were successful (0.926%)\n"
     ]
    },
    {
     "name": "stderr",
     "output_type": "stream",
     "text": [
      "Found 3495163 runs: 100%|█████████████████████████████████████████████████████████████████████████████████████| 100000000/100000000 [00:15<00:00, 6411489.34it/s]\n"
     ]
    },
    {
     "name": "stdout",
     "output_type": "stream",
     "text": [
      "Of 3592234 runs, 33299 were successful (0.927%)\n"
     ]
    },
    {
     "name": "stderr",
     "output_type": "stream",
     "text": [
      "Found 3592234 runs: 100%|█████████████████████████████████████████████████████████████████████████████████████| 100000000/100000000 [00:15<00:00, 6445708.71it/s]\n"
     ]
    },
    {
     "name": "stdout",
     "output_type": "stream",
     "text": [
      "Of 3689312 runs, 34155 were successful (0.926%)\n"
     ]
    },
    {
     "name": "stderr",
     "output_type": "stream",
     "text": [
      "Found 3689312 runs: 100%|█████████████████████████████████████████████████████████████████████████████████████| 100000000/100000000 [00:15<00:00, 6458758.08it/s]\n"
     ]
    },
    {
     "name": "stdout",
     "output_type": "stream",
     "text": [
      "Of 3786419 runs, 35006 were successful (0.925%)\n"
     ]
    },
    {
     "name": "stderr",
     "output_type": "stream",
     "text": [
      "Found 3786419 runs: 100%|█████████████████████████████████████████████████████████████████████████████████████| 100000000/100000000 [00:15<00:00, 6506049.62it/s]\n"
     ]
    },
    {
     "name": "stdout",
     "output_type": "stream",
     "text": [
      "Of 3883512 runs, 35901 were successful (0.924%)\n"
     ]
    },
    {
     "name": "stderr",
     "output_type": "stream",
     "text": [
      "Found 3883512 runs: 100%|█████████████████████████████████████████████████████████████████████████████████████| 100000000/100000000 [00:15<00:00, 6502953.58it/s]\n"
     ]
    },
    {
     "name": "stdout",
     "output_type": "stream",
     "text": [
      "Of 3980600 runs, 36774 were successful (0.924%)\n"
     ]
    },
    {
     "name": "stderr",
     "output_type": "stream",
     "text": [
      "Found 3980600 runs: 100%|█████████████████████████████████████████████████████████████████████████████████████| 100000000/100000000 [00:15<00:00, 6489196.65it/s]\n"
     ]
    },
    {
     "name": "stdout",
     "output_type": "stream",
     "text": [
      "Of 4077694 runs, 37672 were successful (0.924%)\n"
     ]
    },
    {
     "name": "stderr",
     "output_type": "stream",
     "text": [
      "Found 4077694 runs: 100%|█████████████████████████████████████████████████████████████████████████████████████| 100000000/100000000 [00:15<00:00, 6455800.08it/s]\n"
     ]
    },
    {
     "name": "stdout",
     "output_type": "stream",
     "text": [
      "Of 4174791 runs, 38525 were successful (0.923%)\n"
     ]
    },
    {
     "name": "stderr",
     "output_type": "stream",
     "text": [
      "Found 4174791 runs: 100%|█████████████████████████████████████████████████████████████████████████████████████| 100000000/100000000 [00:15<00:00, 6466583.73it/s]\n"
     ]
    },
    {
     "name": "stdout",
     "output_type": "stream",
     "text": [
      "Of 4271890 runs, 39415 were successful (0.923%)\n"
     ]
    },
    {
     "name": "stderr",
     "output_type": "stream",
     "text": [
      "Found 4271890 runs: 100%|█████████████████████████████████████████████████████████████████████████████████████| 100000000/100000000 [00:15<00:00, 6448991.61it/s]\n"
     ]
    },
    {
     "name": "stdout",
     "output_type": "stream",
     "text": [
      "Of 4368980 runs, 40370 were successful (0.924%)\n"
     ]
    },
    {
     "name": "stderr",
     "output_type": "stream",
     "text": [
      "Found 4368980 runs: 100%|█████████████████████████████████████████████████████████████████████████████████████| 100000000/100000000 [00:15<00:00, 6473354.98it/s]\n"
     ]
    },
    {
     "name": "stdout",
     "output_type": "stream",
     "text": [
      "Of 4466054 runs, 41288 were successful (0.924%)\n"
     ]
    },
    {
     "name": "stderr",
     "output_type": "stream",
     "text": [
      "Found 4466054 runs: 100%|█████████████████████████████████████████████████████████████████████████████████████| 100000000/100000000 [00:15<00:00, 6459626.56it/s]\n"
     ]
    },
    {
     "name": "stdout",
     "output_type": "stream",
     "text": [
      "Of 4563127 runs, 42173 were successful (0.924%)\n"
     ]
    },
    {
     "name": "stderr",
     "output_type": "stream",
     "text": [
      "Found 4563127 runs: 100%|█████████████████████████████████████████████████████████████████████████████████████| 100000000/100000000 [00:15<00:00, 6450654.51it/s]\n"
     ]
    },
    {
     "name": "stdout",
     "output_type": "stream",
     "text": [
      "Of 4660211 runs, 43123 were successful (0.925%)\n"
     ]
    },
    {
     "name": "stderr",
     "output_type": "stream",
     "text": [
      "Found 4660211 runs: 100%|█████████████████████████████████████████████████████████████████████████████████████| 100000000/100000000 [00:15<00:00, 6391005.43it/s]\n"
     ]
    },
    {
     "name": "stdout",
     "output_type": "stream",
     "text": [
      "Of 4757300 runs, 44049 were successful (0.926%)\n"
     ]
    },
    {
     "name": "stderr",
     "output_type": "stream",
     "text": [
      "Found 4757300 runs: 100%|█████████████████████████████████████████████████████████████████████████████████████| 100000000/100000000 [00:15<00:00, 6417392.06it/s]\n"
     ]
    },
    {
     "name": "stdout",
     "output_type": "stream",
     "text": [
      "Of 4854402 runs, 44950 were successful (0.926%)\n"
     ]
    },
    {
     "name": "stderr",
     "output_type": "stream",
     "text": [
      "Found 4854402 runs: 100%|█████████████████████████████████████████████████████████████████████████████████████| 100000000/100000000 [00:15<00:00, 6419781.07it/s]\n"
     ]
    },
    {
     "name": "stdout",
     "output_type": "stream",
     "text": [
      "Of 4951488 runs, 45872 were successful (0.926%)\n"
     ]
    },
    {
     "name": "stderr",
     "output_type": "stream",
     "text": [
      "Found 4951488 runs: 100%|█████████████████████████████████████████████████████████████████████████████████████| 100000000/100000000 [00:15<00:00, 6636826.64it/s]\n"
     ]
    },
    {
     "name": "stdout",
     "output_type": "stream",
     "text": [
      "Of 5048571 runs, 46745 were successful (0.926%)\n"
     ]
    },
    {
     "name": "stderr",
     "output_type": "stream",
     "text": [
      "Found 5048571 runs: 100%|█████████████████████████████████████████████████████████████████████████████████████| 100000000/100000000 [00:15<00:00, 6498779.04it/s]\n"
     ]
    },
    {
     "name": "stdout",
     "output_type": "stream",
     "text": [
      "Of 5145656 runs, 47636 were successful (0.926%)\n"
     ]
    },
    {
     "name": "stderr",
     "output_type": "stream",
     "text": [
      "Found 5145656 runs: 100%|█████████████████████████████████████████████████████████████████████████████████████| 100000000/100000000 [00:15<00:00, 6400598.98it/s]\n"
     ]
    },
    {
     "name": "stdout",
     "output_type": "stream",
     "text": [
      "Of 5242753 runs, 48570 were successful (0.926%)\n"
     ]
    },
    {
     "name": "stderr",
     "output_type": "stream",
     "text": [
      "Found 5242753 runs: 100%|█████████████████████████████████████████████████████████████████████████████████████| 100000000/100000000 [00:15<00:00, 6451411.36it/s]\n"
     ]
    },
    {
     "name": "stdout",
     "output_type": "stream",
     "text": [
      "Of 5339835 runs, 49481 were successful (0.927%)\n"
     ]
    },
    {
     "name": "stderr",
     "output_type": "stream",
     "text": [
      "Found 5339835 runs: 100%|█████████████████████████████████████████████████████████████████████████████████████| 100000000/100000000 [00:15<00:00, 6489602.18it/s]\n"
     ]
    },
    {
     "name": "stdout",
     "output_type": "stream",
     "text": [
      "Of 5436913 runs, 50299 were successful (0.925%)\n"
     ]
    },
    {
     "name": "stderr",
     "output_type": "stream",
     "text": [
      "Found 5436913 runs: 100%|█████████████████████████████████████████████████████████████████████████████████████| 100000000/100000000 [00:15<00:00, 6466412.25it/s]\n"
     ]
    },
    {
     "name": "stdout",
     "output_type": "stream",
     "text": [
      "Of 5534000 runs, 51213 were successful (0.925%)\n"
     ]
    },
    {
     "name": "stderr",
     "output_type": "stream",
     "text": [
      "Found 5534000 runs: 100%|█████████████████████████████████████████████████████████████████████████████████████| 100000000/100000000 [00:15<00:00, 6456916.25it/s]\n"
     ]
    },
    {
     "name": "stdout",
     "output_type": "stream",
     "text": [
      "Of 5631080 runs, 52101 were successful (0.925%)\n"
     ]
    },
    {
     "name": "stderr",
     "output_type": "stream",
     "text": [
      "Found 5631080 runs: 100%|█████████████████████████████████████████████████████████████████████████████████████| 100000000/100000000 [00:15<00:00, 6490951.06it/s]\n"
     ]
    },
    {
     "name": "stdout",
     "output_type": "stream",
     "text": [
      "Of 5728160 runs, 53048 were successful (0.926%)\n"
     ]
    },
    {
     "name": "stderr",
     "output_type": "stream",
     "text": [
      "Found 5728160 runs: 100%|█████████████████████████████████████████████████████████████████████████████████████| 100000000/100000000 [00:15<00:00, 6498134.46it/s]\n"
     ]
    },
    {
     "name": "stdout",
     "output_type": "stream",
     "text": [
      "Of 5825247 runs, 53949 were successful (0.926%)\n"
     ]
    },
    {
     "name": "stderr",
     "output_type": "stream",
     "text": [
      "Found 5825247 runs: 100%|█████████████████████████████████████████████████████████████████████████████████████| 100000000/100000000 [00:15<00:00, 6416957.21it/s]\n"
     ]
    },
    {
     "name": "stdout",
     "output_type": "stream",
     "text": [
      "Of 5922332 runs, 54824 were successful (0.926%)\n"
     ]
    },
    {
     "name": "stderr",
     "output_type": "stream",
     "text": [
      "Found 5922332 runs: 100%|█████████████████████████████████████████████████████████████████████████████████████| 100000000/100000000 [00:15<00:00, 6326381.10it/s]\n"
     ]
    },
    {
     "name": "stdout",
     "output_type": "stream",
     "text": [
      "Of 6019423 runs, 55709 were successful (0.925%)\n"
     ]
    },
    {
     "name": "stderr",
     "output_type": "stream",
     "text": [
      "Found 6019423 runs: 100%|█████████████████████████████████████████████████████████████████████████████████████| 100000000/100000000 [00:15<00:00, 6559748.12it/s]\n"
     ]
    },
    {
     "name": "stdout",
     "output_type": "stream",
     "text": [
      "Of 6116505 runs, 56603 were successful (0.925%)\n"
     ]
    },
    {
     "name": "stderr",
     "output_type": "stream",
     "text": [
      "Found 6116505 runs: 100%|█████████████████████████████████████████████████████████████████████████████████████| 100000000/100000000 [00:15<00:00, 6536350.47it/s]\n"
     ]
    },
    {
     "name": "stdout",
     "output_type": "stream",
     "text": [
      "Of 6213594 runs, 57496 were successful (0.925%)\n"
     ]
    },
    {
     "name": "stderr",
     "output_type": "stream",
     "text": [
      "Found 6213594 runs: 100%|█████████████████████████████████████████████████████████████████████████████████████| 100000000/100000000 [00:15<00:00, 6510552.73it/s]\n"
     ]
    },
    {
     "name": "stdout",
     "output_type": "stream",
     "text": [
      "Of 6310688 runs, 58366 were successful (0.925%)\n"
     ]
    },
    {
     "name": "stderr",
     "output_type": "stream",
     "text": [
      "Found 6310688 runs: 100%|█████████████████████████████████████████████████████████████████████████████████████| 100000000/100000000 [00:15<00:00, 6587614.43it/s]\n"
     ]
    },
    {
     "name": "stdout",
     "output_type": "stream",
     "text": [
      "Of 6407781 runs, 59279 were successful (0.925%)\n"
     ]
    },
    {
     "name": "stderr",
     "output_type": "stream",
     "text": [
      "Found 6407781 runs: 100%|█████████████████████████████████████████████████████████████████████████████████████| 100000000/100000000 [00:15<00:00, 6557464.70it/s]\n"
     ]
    },
    {
     "name": "stdout",
     "output_type": "stream",
     "text": [
      "Of 6504876 runs, 60185 were successful (0.925%)\n"
     ]
    },
    {
     "name": "stderr",
     "output_type": "stream",
     "text": [
      "Found 6504876 runs: 100%|█████████████████████████████████████████████████████████████████████████████████████| 100000000/100000000 [00:15<00:00, 6551425.34it/s]\n"
     ]
    },
    {
     "name": "stdout",
     "output_type": "stream",
     "text": [
      "Of 6601942 runs, 61086 were successful (0.925%)\n"
     ]
    },
    {
     "name": "stderr",
     "output_type": "stream",
     "text": [
      "Found 6601942 runs: 100%|█████████████████████████████████████████████████████████████████████████████████████| 100000000/100000000 [00:15<00:00, 6560586.72it/s]\n"
     ]
    },
    {
     "name": "stdout",
     "output_type": "stream",
     "text": [
      "Of 6699019 runs, 61984 were successful (0.925%)\n"
     ]
    },
    {
     "name": "stderr",
     "output_type": "stream",
     "text": [
      "Found 6699019 runs: 100%|█████████████████████████████████████████████████████████████████████████████████████| 100000000/100000000 [00:15<00:00, 6567703.94it/s]\n"
     ]
    },
    {
     "name": "stdout",
     "output_type": "stream",
     "text": [
      "Of 6796104 runs, 62910 were successful (0.926%)\n"
     ]
    },
    {
     "name": "stderr",
     "output_type": "stream",
     "text": [
      "Found 6796104 runs: 100%|█████████████████████████████████████████████████████████████████████████████████████| 100000000/100000000 [00:15<00:00, 6453883.37it/s]\n"
     ]
    },
    {
     "name": "stdout",
     "output_type": "stream",
     "text": [
      "Of 6893176 runs, 63785 were successful (0.925%)\n"
     ]
    },
    {
     "name": "stderr",
     "output_type": "stream",
     "text": [
      "Found 6893176 runs: 100%|█████████████████████████████████████████████████████████████████████████████████████| 100000000/100000000 [00:15<00:00, 6560115.94it/s]\n"
     ]
    },
    {
     "name": "stdout",
     "output_type": "stream",
     "text": [
      "Of 6990255 runs, 64684 were successful (0.925%)\n"
     ]
    },
    {
     "name": "stderr",
     "output_type": "stream",
     "text": [
      "Found 6990255 runs: 100%|█████████████████████████████████████████████████████████████████████████████████████| 100000000/100000000 [00:14<00:00, 6764854.57it/s]\n"
     ]
    },
    {
     "name": "stdout",
     "output_type": "stream",
     "text": [
      "Of 7087341 runs, 65588 were successful (0.925%)\n"
     ]
    },
    {
     "name": "stderr",
     "output_type": "stream",
     "text": [
      "Found 7087341 runs: 100%|█████████████████████████████████████████████████████████████████████████████████████| 100000000/100000000 [00:15<00:00, 6572141.86it/s]\n"
     ]
    },
    {
     "name": "stdout",
     "output_type": "stream",
     "text": [
      "Of 7184434 runs, 66469 were successful (0.925%)\n"
     ]
    },
    {
     "name": "stderr",
     "output_type": "stream",
     "text": [
      "Found 7184434 runs: 100%|█████████████████████████████████████████████████████████████████████████████████████| 100000000/100000000 [00:15<00:00, 6515303.15it/s]\n"
     ]
    },
    {
     "name": "stdout",
     "output_type": "stream",
     "text": [
      "Of 7281525 runs, 67348 were successful (0.925%)\n"
     ]
    },
    {
     "name": "stderr",
     "output_type": "stream",
     "text": [
      "Found 7281525 runs: 100%|█████████████████████████████████████████████████████████████████████████████████████| 100000000/100000000 [00:15<00:00, 6507080.88it/s]\n"
     ]
    },
    {
     "name": "stdout",
     "output_type": "stream",
     "text": [
      "Of 7378610 runs, 68245 were successful (0.925%)\n"
     ]
    },
    {
     "name": "stderr",
     "output_type": "stream",
     "text": [
      "Found 7378610 runs: 100%|█████████████████████████████████████████████████████████████████████████████████████| 100000000/100000000 [00:15<00:00, 6500600.20it/s]\n"
     ]
    },
    {
     "name": "stdout",
     "output_type": "stream",
     "text": [
      "Of 7475684 runs, 69158 were successful (0.925%)\n"
     ]
    },
    {
     "name": "stderr",
     "output_type": "stream",
     "text": [
      "Found 7475684 runs: 100%|█████████████████████████████████████████████████████████████████████████████████████| 100000000/100000000 [00:15<00:00, 6551445.50it/s]\n"
     ]
    },
    {
     "name": "stdout",
     "output_type": "stream",
     "text": [
      "Of 7572777 runs, 70078 were successful (0.925%)\n"
     ]
    },
    {
     "name": "stderr",
     "output_type": "stream",
     "text": [
      "Found 7572777 runs: 100%|█████████████████████████████████████████████████████████████████████████████████████| 100000000/100000000 [00:15<00:00, 6470231.67it/s]\n"
     ]
    },
    {
     "name": "stdout",
     "output_type": "stream",
     "text": [
      "Of 7669884 runs, 70992 were successful (0.926%)\n"
     ]
    },
    {
     "name": "stderr",
     "output_type": "stream",
     "text": [
      "Found 7669884 runs: 100%|█████████████████████████████████████████████████████████████████████████████████████| 100000000/100000000 [00:15<00:00, 6548995.14it/s]\n"
     ]
    },
    {
     "name": "stdout",
     "output_type": "stream",
     "text": [
      "Of 7766969 runs, 71858 were successful (0.925%)\n"
     ]
    },
    {
     "name": "stderr",
     "output_type": "stream",
     "text": [
      "Found 7766969 runs: 100%|█████████████████████████████████████████████████████████████████████████████████████| 100000000/100000000 [00:15<00:00, 6565056.23it/s]\n"
     ]
    },
    {
     "name": "stdout",
     "output_type": "stream",
     "text": [
      "Of 7864048 runs, 72699 were successful (0.924%)\n"
     ]
    },
    {
     "name": "stderr",
     "output_type": "stream",
     "text": [
      "Found 7864048 runs: 100%|█████████████████████████████████████████████████████████████████████████████████████| 100000000/100000000 [00:15<00:00, 6523246.62it/s]\n"
     ]
    },
    {
     "name": "stdout",
     "output_type": "stream",
     "text": [
      "Of 7961142 runs, 73589 were successful (0.924%)\n"
     ]
    },
    {
     "name": "stderr",
     "output_type": "stream",
     "text": [
      "Found 7961142 runs: 100%|█████████████████████████████████████████████████████████████████████████████████████| 100000000/100000000 [00:15<00:00, 6560823.98it/s]\n"
     ]
    },
    {
     "name": "stdout",
     "output_type": "stream",
     "text": [
      "Of 8058250 runs, 74538 were successful (0.925%)\n"
     ]
    },
    {
     "name": "stderr",
     "output_type": "stream",
     "text": [
      "Found 8058250 runs: 100%|█████████████████████████████████████████████████████████████████████████████████████| 100000000/100000000 [00:15<00:00, 6531558.74it/s]\n"
     ]
    },
    {
     "name": "stdout",
     "output_type": "stream",
     "text": [
      "Of 8155343 runs, 75436 were successful (0.925%)\n"
     ]
    },
    {
     "name": "stderr",
     "output_type": "stream",
     "text": [
      "Found 8155343 runs: 100%|█████████████████████████████████████████████████████████████████████████████████████| 100000000/100000000 [00:15<00:00, 6555297.41it/s]\n"
     ]
    },
    {
     "name": "stdout",
     "output_type": "stream",
     "text": [
      "Of 8252428 runs, 76366 were successful (0.925%)\n"
     ]
    },
    {
     "name": "stderr",
     "output_type": "stream",
     "text": [
      "Found 8252428 runs: 100%|█████████████████████████████████████████████████████████████████████████████████████| 100000000/100000000 [00:15<00:00, 6537800.89it/s]\n"
     ]
    },
    {
     "name": "stdout",
     "output_type": "stream",
     "text": [
      "Of 8349514 runs, 77262 were successful (0.925%)\n"
     ]
    },
    {
     "name": "stderr",
     "output_type": "stream",
     "text": [
      "Found 8349514 runs: 100%|█████████████████████████████████████████████████████████████████████████████████████| 100000000/100000000 [00:15<00:00, 6569493.25it/s]\n"
     ]
    },
    {
     "name": "stdout",
     "output_type": "stream",
     "text": [
      "Of 8446618 runs, 78145 were successful (0.925%)\n"
     ]
    },
    {
     "name": "stderr",
     "output_type": "stream",
     "text": [
      "Found 8446618 runs: 100%|█████████████████████████████████████████████████████████████████████████████████████| 100000000/100000000 [00:14<00:00, 6674760.57it/s]\n"
     ]
    },
    {
     "name": "stdout",
     "output_type": "stream",
     "text": [
      "Of 8543701 runs, 79030 were successful (0.925%)\n"
     ]
    },
    {
     "name": "stderr",
     "output_type": "stream",
     "text": [
      "Found 8543701 runs: 100%|█████████████████████████████████████████████████████████████████████████████████████| 100000000/100000000 [00:14<00:00, 6739598.06it/s]\n"
     ]
    },
    {
     "name": "stdout",
     "output_type": "stream",
     "text": [
      "Of 8640785 runs, 79945 were successful (0.925%)\n"
     ]
    },
    {
     "name": "stderr",
     "output_type": "stream",
     "text": [
      "Found 8640785 runs: 100%|█████████████████████████████████████████████████████████████████████████████████████| 100000000/100000000 [00:14<00:00, 6746514.80it/s]\n"
     ]
    },
    {
     "name": "stdout",
     "output_type": "stream",
     "text": [
      "Of 8737871 runs, 80851 were successful (0.925%)\n"
     ]
    },
    {
     "name": "stderr",
     "output_type": "stream",
     "text": [
      "Found 8737871 runs: 100%|█████████████████████████████████████████████████████████████████████████████████████| 100000000/100000000 [00:14<00:00, 6720316.24it/s]\n"
     ]
    },
    {
     "name": "stdout",
     "output_type": "stream",
     "text": [
      "Of 8834970 runs, 81722 were successful (0.925%)\n"
     ]
    },
    {
     "name": "stderr",
     "output_type": "stream",
     "text": [
      "Found 8834970 runs: 100%|█████████████████████████████████████████████████████████████████████████████████████| 100000000/100000000 [00:14<00:00, 6749240.44it/s]\n"
     ]
    },
    {
     "name": "stdout",
     "output_type": "stream",
     "text": [
      "Of 8932056 runs, 82610 were successful (0.925%)\n"
     ]
    },
    {
     "name": "stderr",
     "output_type": "stream",
     "text": [
      "Found 8932056 runs: 100%|█████████████████████████████████████████████████████████████████████████████████████| 100000000/100000000 [00:14<00:00, 6763507.46it/s]\n"
     ]
    },
    {
     "name": "stdout",
     "output_type": "stream",
     "text": [
      "Of 9029156 runs, 83500 were successful (0.925%)\n"
     ]
    },
    {
     "name": "stderr",
     "output_type": "stream",
     "text": [
      "Found 9029156 runs: 100%|█████████████████████████████████████████████████████████████████████████████████████| 100000000/100000000 [00:14<00:00, 6679737.24it/s]\n"
     ]
    },
    {
     "name": "stdout",
     "output_type": "stream",
     "text": [
      "Of 9126242 runs, 84414 were successful (0.925%)\n"
     ]
    },
    {
     "name": "stderr",
     "output_type": "stream",
     "text": [
      "Found 9126242 runs: 100%|█████████████████████████████████████████████████████████████████████████████████████| 100000000/100000000 [00:14<00:00, 6733139.37it/s]\n"
     ]
    },
    {
     "name": "stdout",
     "output_type": "stream",
     "text": [
      "Of 9223333 runs, 85292 were successful (0.925%)\n"
     ]
    },
    {
     "name": "stderr",
     "output_type": "stream",
     "text": [
      "Found 9223333 runs: 100%|█████████████████████████████████████████████████████████████████████████████████████| 100000000/100000000 [00:14<00:00, 6731390.21it/s]\n"
     ]
    },
    {
     "name": "stdout",
     "output_type": "stream",
     "text": [
      "Of 9320407 runs, 86149 were successful (0.924%)\n"
     ]
    },
    {
     "name": "stderr",
     "output_type": "stream",
     "text": [
      "Found 9320407 runs: 100%|█████████████████████████████████████████████████████████████████████████████████████| 100000000/100000000 [00:14<00:00, 6748917.58it/s]\n"
     ]
    },
    {
     "name": "stdout",
     "output_type": "stream",
     "text": [
      "Of 9417488 runs, 87050 were successful (0.924%)\n"
     ]
    },
    {
     "name": "stderr",
     "output_type": "stream",
     "text": [
      "Found 9417488 runs: 100%|█████████████████████████████████████████████████████████████████████████████████████| 100000000/100000000 [00:14<00:00, 6742385.10it/s]\n"
     ]
    },
    {
     "name": "stdout",
     "output_type": "stream",
     "text": [
      "Of 9514573 runs, 87958 were successful (0.924%)\n"
     ]
    },
    {
     "name": "stderr",
     "output_type": "stream",
     "text": [
      "Found 9514573 runs: 100%|█████████████████████████████████████████████████████████████████████████████████████| 100000000/100000000 [00:14<00:00, 6733016.15it/s]\n"
     ]
    },
    {
     "name": "stdout",
     "output_type": "stream",
     "text": [
      "Of 9611658 runs, 88878 were successful (0.925%)\n"
     ]
    },
    {
     "name": "stderr",
     "output_type": "stream",
     "text": [
      "Found 9611658 runs: 100%|█████████████████████████████████████████████████████████████████████████████████████| 100000000/100000000 [00:14<00:00, 6744302.96it/s]\n"
     ]
    },
    {
     "name": "stdout",
     "output_type": "stream",
     "text": [
      "Of 9708755 runs, 89720 were successful (0.924%)\n"
     ]
    },
    {
     "name": "stderr",
     "output_type": "stream",
     "text": [
      "Found 9708755 runs: 100%|█████████████████████████████████████████████████████████████████████████████████████| 100000000/100000000 [00:14<00:00, 6742138.10it/s]\n"
     ]
    },
    {
     "name": "stdout",
     "output_type": "stream",
     "text": [
      "Of 9805837 runs, 90599 were successful (0.924%)\n"
     ]
    },
    {
     "name": "stderr",
     "output_type": "stream",
     "text": [
      "Found 9805837 runs: 100%|█████████████████████████████████████████████████████████████████████████████████████| 100000000/100000000 [00:14<00:00, 6747955.78it/s]\n"
     ]
    },
    {
     "name": "stdout",
     "output_type": "stream",
     "text": [
      "Of 9902931 runs, 91448 were successful (0.923%)\n"
     ]
    },
    {
     "name": "stderr",
     "output_type": "stream",
     "text": [
      "Found 9902931 runs: 100%|█████████████████████████████████████████████████████████████████████████████████████| 100000000/100000000 [00:14<00:00, 6766749.11it/s]"
     ]
    },
    {
     "name": "stdout",
     "output_type": "stream",
     "text": [
      "Of 10000019 runs, 92336 were successful (0.923%)\n"
     ]
    },
    {
     "name": "stderr",
     "output_type": "stream",
     "text": [
      "\n"
     ]
    }
   ],
   "source": [
    "target_value = 111111\n",
    "n = 100000000\n",
    "\n",
    "n_runs = 0\n",
    "n_successful_runs = 0\n",
    "while n_runs < 10000000:\n",
    "    crops = rng.integers(0, n_crops, size=n)\n",
    "    qualities = rng.choice([0, 1, 2], size=n, p=[basic_prob, silver_prob, gold_prob])\n",
    "    sales = prices[crops, qualities]\n",
    "    \n",
    "    total_gold = 0\n",
    "    for sale in tqdm(sales, desc=f\"Found {n_runs} runs\"):\n",
    "        total_gold += sale\n",
    "        if total_gold >= target_value:\n",
    "            n_runs += 1\n",
    "            if total_gold == target_value:\n",
    "                n_successful_runs += 1\n",
    "            total_gold = 0\n",
    "    print(f\"Of {n_runs} runs, {n_successful_runs} were successful ({n_successful_runs / n_runs:.3%})\")"
   ]
  },
  {
   "cell_type": "code",
   "execution_count": 113,
   "id": "242973b3-37c3-49f4-9372-4f968529878a",
   "metadata": {},
   "outputs": [
    {
     "name": "stdout",
     "output_type": "stream",
     "text": [
      "Of 10000019 runs, 92336 were successful (0.923%)\n"
     ]
    }
   ],
   "source": [
    "print(f\"Of {n_runs} runs, {n_successful_runs} were successful ({n_successful_runs / n_runs:.3%})\")"
   ]
  },
  {
   "cell_type": "code",
   "execution_count": 127,
   "id": "54748373-39e5-4099-8f22-92646d868dea",
   "metadata": {},
   "outputs": [
    {
     "name": "stdout",
     "output_type": "stream",
     "text": [
      "Completed 97092 / 10000000 runs.\n",
      "Completed 194169 / 10000000 runs.\n",
      "Completed 291230 / 10000000 runs.\n",
      "Completed 388319 / 10000000 runs.\n",
      "Completed 485397 / 10000000 runs.\n",
      "Completed 582482 / 10000000 runs.\n",
      "Completed 679574 / 10000000 runs.\n",
      "Completed 776642 / 10000000 runs.\n",
      "Completed 873714 / 10000000 runs.\n",
      "Completed 970792 / 10000000 runs.\n",
      "Completed 1067855 / 10000000 runs.\n",
      "Completed 1164936 / 10000000 runs.\n",
      "Completed 1262012 / 10000000 runs.\n",
      "Completed 1359091 / 10000000 runs.\n",
      "Completed 1456176 / 10000000 runs.\n",
      "Completed 1553253 / 10000000 runs.\n",
      "Completed 1650335 / 10000000 runs.\n",
      "Completed 1747408 / 10000000 runs.\n",
      "Completed 1844483 / 10000000 runs.\n",
      "Completed 1941562 / 10000000 runs.\n",
      "Completed 2038639 / 10000000 runs.\n",
      "Completed 2135712 / 10000000 runs.\n",
      "Completed 2232786 / 10000000 runs.\n",
      "Completed 2329863 / 10000000 runs.\n",
      "Completed 2426948 / 10000000 runs.\n",
      "Completed 2524014 / 10000000 runs.\n",
      "Completed 2621090 / 10000000 runs.\n",
      "Completed 2718168 / 10000000 runs.\n",
      "Completed 2815239 / 10000000 runs.\n",
      "Completed 2912307 / 10000000 runs.\n",
      "Completed 3009396 / 10000000 runs.\n",
      "Completed 3106484 / 10000000 runs.\n",
      "Completed 3203563 / 10000000 runs.\n",
      "Completed 3300636 / 10000000 runs.\n",
      "Completed 3397719 / 10000000 runs.\n",
      "Completed 3494807 / 10000000 runs.\n",
      "Completed 3591881 / 10000000 runs.\n",
      "Completed 3688953 / 10000000 runs.\n",
      "Completed 3786043 / 10000000 runs.\n",
      "Completed 3883116 / 10000000 runs.\n",
      "Completed 3980202 / 10000000 runs.\n",
      "Completed 4077297 / 10000000 runs.\n",
      "Completed 4174377 / 10000000 runs.\n",
      "Completed 4271461 / 10000000 runs.\n",
      "Completed 4368527 / 10000000 runs.\n",
      "Completed 4465612 / 10000000 runs.\n",
      "Completed 4562696 / 10000000 runs.\n",
      "Completed 4659770 / 10000000 runs.\n",
      "Completed 4756845 / 10000000 runs.\n",
      "Completed 4853923 / 10000000 runs.\n",
      "Completed 4951011 / 10000000 runs.\n",
      "Completed 5048094 / 10000000 runs.\n",
      "Completed 5145174 / 10000000 runs.\n",
      "Completed 5242259 / 10000000 runs.\n",
      "Completed 5339333 / 10000000 runs.\n",
      "Completed 5436406 / 10000000 runs.\n",
      "Completed 5533492 / 10000000 runs.\n",
      "Completed 5630580 / 10000000 runs.\n",
      "Completed 5727655 / 10000000 runs.\n",
      "Completed 5824735 / 10000000 runs.\n",
      "Completed 5921810 / 10000000 runs.\n",
      "Completed 6018887 / 10000000 runs.\n",
      "Completed 6115972 / 10000000 runs.\n",
      "Completed 6213056 / 10000000 runs.\n",
      "Completed 6310118 / 10000000 runs.\n",
      "Completed 6407192 / 10000000 runs.\n",
      "Completed 6504267 / 10000000 runs.\n",
      "Completed 6601343 / 10000000 runs.\n",
      "Completed 6698434 / 10000000 runs.\n",
      "Completed 6795514 / 10000000 runs.\n",
      "Completed 6892588 / 10000000 runs.\n",
      "Completed 6989669 / 10000000 runs.\n",
      "Completed 7086745 / 10000000 runs.\n",
      "Completed 7183815 / 10000000 runs.\n",
      "Completed 7280890 / 10000000 runs.\n",
      "Completed 7377973 / 10000000 runs.\n",
      "Completed 7475043 / 10000000 runs.\n",
      "Completed 7572122 / 10000000 runs.\n",
      "Completed 7669185 / 10000000 runs.\n",
      "Completed 7766267 / 10000000 runs.\n",
      "Completed 7863344 / 10000000 runs.\n",
      "Completed 7960420 / 10000000 runs.\n",
      "Completed 8057510 / 10000000 runs.\n",
      "Completed 8154589 / 10000000 runs.\n",
      "Completed 8251656 / 10000000 runs.\n",
      "Completed 8348745 / 10000000 runs.\n",
      "Completed 8445825 / 10000000 runs.\n",
      "Completed 8542910 / 10000000 runs.\n",
      "Completed 8639991 / 10000000 runs.\n",
      "Completed 8737077 / 10000000 runs.\n",
      "Completed 8834142 / 10000000 runs.\n",
      "Completed 8931218 / 10000000 runs.\n",
      "Completed 9028304 / 10000000 runs.\n",
      "Completed 9125383 / 10000000 runs.\n",
      "Completed 9222447 / 10000000 runs.\n",
      "Completed 9319531 / 10000000 runs.\n",
      "Completed 9416609 / 10000000 runs.\n",
      "Completed 9513676 / 10000000 runs.\n",
      "Completed 9610747 / 10000000 runs.\n",
      "Completed 9707834 / 10000000 runs.\n",
      "Completed 9804907 / 10000000 runs.\n",
      "Completed 9901978 / 10000000 runs.\n",
      "Completed 9999053 / 10000000 runs.\n",
      "Completed 10000000 / 10000000 runs.\n"
     ]
    }
   ],
   "source": [
    "target_value = 111121\n",
    "n = 100000000\n",
    "n_target_runs = 10000000\n",
    "n_sales_history = 8\n",
    "\n",
    "run_history = np.empty((n_target_runs, n_sales_history), dtype=np.int32)\n",
    "n_runs = 0\n",
    "while n_runs < n_target_runs:\n",
    "    crops = rng.integers(0, n_crops, size=n)\n",
    "    qualities = rng.choice([0, 1, 2], size=n, p=[basic_prob, silver_prob, gold_prob])\n",
    "    sales = prices[crops, qualities]\n",
    "\n",
    "    run = []\n",
    "    total_gold = 0\n",
    "    for sale in sales:\n",
    "        total_gold += sale\n",
    "        run.append(sale)\n",
    "        if total_gold >= target_value:\n",
    "            run_history[n_runs, :] = np.cumsum(run)[-n_sales_history:]\n",
    "            n_runs += 1\n",
    "            if n_runs >= n_target_runs:\n",
    "                break\n",
    "            total_gold = 0\n",
    "            run = []\n",
    "    print(f\"Completed {n_runs} / {n_target_runs} runs.\")"
   ]
  },
  {
   "cell_type": "code",
   "execution_count": 117,
   "id": "a0e3555a-581f-4456-afe1-aaeec7611ddc",
   "metadata": {},
   "outputs": [
    {
     "data": {
      "text/plain": [
       "iinfo(min=-2147483648, max=2147483647, dtype=int32)"
      ]
     },
     "execution_count": 117,
     "metadata": {},
     "output_type": "execute_result"
    }
   ],
   "source": [
    "np.iinfo(np.int32)"
   ]
  },
  {
   "cell_type": "code",
   "execution_count": 128,
   "id": "7a2d19eb-4f2e-46e4-acf1-e71a8e32f748",
   "metadata": {},
   "outputs": [
    {
     "data": {
      "text/plain": [
       "110963"
      ]
     },
     "execution_count": 128,
     "metadata": {},
     "output_type": "execute_result"
    }
   ],
   "source": [
    "run_history[:, 0].max()"
   ]
  },
  {
   "cell_type": "code",
   "execution_count": 130,
   "id": "f630b3cf-1e33-4719-8812-96763ba66022",
   "metadata": {},
   "outputs": [
    {
     "data": {
      "text/plain": [
       "(111071, 111121)"
      ]
     },
     "execution_count": 130,
     "metadata": {},
     "output_type": "execute_result"
    }
   ],
   "source": [
    "lowest_value_with_full_data = run_history[:, 0].max()\n",
    "start_value = target_value - 50\n",
    "assert start_value >= lowest_value_with_full_data\n",
    "start_value, target_value"
   ]
  },
  {
   "cell_type": "code",
   "execution_count": 136,
   "id": "dc0bd536-6679-495c-a1f8-487a50cfff88",
   "metadata": {},
   "outputs": [
    {
     "data": {
      "text/plain": [
       "92015"
      ]
     },
     "execution_count": 136,
     "metadata": {},
     "output_type": "execute_result"
    }
   ],
   "source": [
    "(run_history == 111111).any(axis=1).sum()"
   ]
  },
  {
   "cell_type": "code",
   "execution_count": 168,
   "id": "e53f6035-444b-4bda-8e11-b2ae8c517e7d",
   "metadata": {},
   "outputs": [
    {
     "name": "stderr",
     "output_type": "stream",
     "text": [
      "Computing hits: 100%|████████████████████████████████████████████████████████████| 51/51 [00:05<00:00,  9.01it/s]\n"
     ]
    },
    {
     "data": {
      "text/plain": [
       "(2, 51)"
      ]
     },
     "execution_count": 168,
     "metadata": {},
     "output_type": "execute_result"
    }
   ],
   "source": [
    "xs = np.arange(start_value, target_value + 1)\n",
    "ys = []\n",
    "cis = []\n",
    "for x in tqdm(xs, desc=\"Computing hits\"):\n",
    "    n_history = (run_history == x).any(axis=1).sum()\n",
    "    y = n_history\n",
    "    ys.append(y)\n",
    "    binom = binomtest(k=n_history, n=n_target_runs, p=0.00925)\n",
    "    cis.append(tuple(binom.proportion_ci()))\n",
    "    \n",
    "cis = np.array(cis).T\n",
    "cis.shape"
   ]
  },
  {
   "cell_type": "code",
   "execution_count": 143,
   "id": "cb9c9eec-be4f-48bf-9eef-24686c5f2d7e",
   "metadata": {},
   "outputs": [
    {
     "data": {
      "text/plain": [
       "0.009259437254901963"
      ]
     },
     "execution_count": 143,
     "metadata": {},
     "output_type": "execute_result"
    }
   ],
   "source": [
    "ys = np.array(ys)\n",
    "ys_pct = ys / n_target_runs\n",
    "ys_pct.mean()"
   ]
  },
  {
   "cell_type": "code",
   "execution_count": 239,
   "id": "0170c8f3-d2a2-40ed-90cc-792ec45ad761",
   "metadata": {},
   "outputs": [
    {
     "data": {
      "image/png": "[encoded data removed]",
      "text/plain": [
       "<Figure size 800x300 with 1 Axes>"
      ]
     },
     "metadata": {},
     "output_type": "display_data"
    }
   ],
   "source": [
    "# plot:\n",
    "# for each value between and target_value, compute the percentage of the runs with that value\n",
    "\n",
    "\n",
    "fig, ax = plt.subplots(1, 1, figsize=(8, 3))\n",
    "\n",
    "ax.bar(xs, ys_pct, color=matplotlib.cm.viridis(0.45789), width=1)\n",
    "ax.axhline(ys_pct.mean(), color=\"gray\", alpha=0.5, linestyle=\"--\", label=f\"Mean={ys_pct.mean():.3%}\")\n",
    "cis_delta = np.abs(cis - ys_pct)\n",
    "ax.errorbar(xs, ys_pct, yerr=cis_delta, ecolor=\"black\", capsize=2, elinewidth=1, linewidth=0)\n",
    "\n",
    "margin = 0.0001\n",
    "ax.set_ylim(bottom=cis.min() - margin, top=cis.max() + margin)\n",
    "ax.annotate(\"111,111g\", (111111, 0.00927), xytext=(111111, 0.0094), xycoords=\"data\", ha=\"center\", va=\"bottom\", arrowprops={\n",
    "    \"width\": 1,\n",
    "    \"color\": matplotlib.cm.viridis(0.05),\n",
    "    \"headwidth\": 4,\n",
    "})\n",
    "ax.legend()\n",
    "ax.yaxis.set_major_formatter(matplotlib.ticker.FuncFormatter(lambda y, pos: f\"{y:.2%}\"))\n",
    "ax.xaxis.set_major_formatter(lambda x, pos: f\"{x:,.0f}g\")\n",
    "\n",
    "fig.tight_layout()\n",
    "fig.savefig(\"data/derived/stardew_valley_various_targets.png\", dpi=72)\n",
    "plt.show()"
   ]
  },
  {
   "cell_type": "code",
   "execution_count": null,
   "id": "78846814-e740-441c-aa7d-025e33775879",
   "metadata": {},
   "outputs": [],
   "source": []
  },
  {
   "cell_type": "code",
   "execution_count": null,
   "id": "22467de9-7e73-4631-b91e-beee63aabfb4",
   "metadata": {},
   "outputs": [],
   "source": []
  },
  {
   "cell_type": "code",
   "execution_count": null,
   "id": "de4bd0a5-cd48-4f37-94a1-347922caed63",
   "metadata": {},
   "outputs": [],
   "source": []
  },
  {
   "cell_type": "code",
   "execution_count": null,
   "id": "11309c7a-954b-4644-ad66-78eab0e53a8f",
   "metadata": {},
   "outputs": [],
   "source": []
  }
 ],
 "metadata": {
  "kernelspec": {
   "display_name": "Python 3 (ipykernel)",
   "language": "python",
   "name": "python3"
  },
  "language_info": {
   "codemirror_mode": {
    "name": "ipython",
    "version": 3
   },
   "file_extension": ".py",
   "mimetype": "text/x-python",
   "name": "python",
   "nbconvert_exporter": "python",
   "pygments_lexer": "ipython3",
   "version": "3.10.11"
  }
 },
 "nbformat": 4,
 "nbformat_minor": 5
}
