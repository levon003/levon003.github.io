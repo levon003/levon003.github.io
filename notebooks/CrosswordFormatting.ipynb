{
 "cells": [
  {
   "cell_type": "markdown",
   "id": "53632739-51b9-461e-9d42-e32210547d8d",
   "metadata": {},
   "source": [
    "# Crossword Formatting\n",
    "\n",
    "Quick notebook to format clues."
   ]
  },
  {
   "cell_type": "code",
   "execution_count": 1,
   "id": "d52f67a9-26cc-47b9-b6cf-408b4d21ff1b",
   "metadata": {},
   "outputs": [],
   "source": [
    "import pandas as pd"
   ]
  },
  {
   "cell_type": "code",
   "execution_count": 8,
   "id": "098702d1-3bf6-4aa1-b99e-3120a1721ce4",
   "metadata": {},
   "outputs": [
    {
     "data": {
      "text/plain": [
       "(42, 4)"
      ]
     },
     "execution_count": 8,
     "metadata": {},
     "output_type": "execute_result"
    }
   ],
   "source": [
    "df = pd.read_csv(\"~/Downloads/weddingpuzzle/ZachSunita Wedding.tsv\", sep=\"\\t\")\n",
    "df.shape"
   ]
  },
  {
   "cell_type": "code",
   "execution_count": 9,
   "id": "833d3d38-21cd-4194-a424-570786cf70f1",
   "metadata": {},
   "outputs": [
    {
     "data": {
      "text/plain": [
       "Index(['\"number\"', '\"answer\"', '\"clue\"', '\"notes\"'], dtype='object')"
      ]
     },
     "execution_count": 9,
     "metadata": {},
     "output_type": "execute_result"
    }
   ],
   "source": [
    "df.columns"
   ]
  },
  {
   "cell_type": "code",
   "execution_count": 11,
   "id": "7d530ddb-ccce-4fc4-829d-63faa0d542ca",
   "metadata": {},
   "outputs": [
    {
     "data": {
      "text/plain": [
       "direction\n",
       "A    24\n",
       "D    18\n",
       "Name: count, dtype: int64"
      ]
     },
     "execution_count": 11,
     "metadata": {},
     "output_type": "execute_result"
    }
   ],
   "source": [
    "df[\"direction\"] = df['\"number\"'].map(lambda n: \"A\" if n.endswith(\"A\") else \"D\")\n",
    "df[\"num\"] = df['\"number\"'].map(lambda n: int(n[:-1]))\n",
    "df.direction.value_counts()"
   ]
  },
  {
   "cell_type": "code",
   "execution_count": 13,
   "id": "f35ee874-f553-4a18-8ec5-901c04a4082f",
   "metadata": {},
   "outputs": [
    {
     "data": {
      "text/html": [
       "<div>\n",
       "<style scoped>\n",
       "    .dataframe tbody tr th:only-of-type {\n",
       "        vertical-align: middle;\n",
       "    }\n",
       "\n",
       "    .dataframe tbody tr th {\n",
       "        vertical-align: top;\n",
       "    }\n",
       "\n",
       "    .dataframe thead th {\n",
       "        text-align: right;\n",
       "    }\n",
       "</style>\n",
       "<table border=\"1\" class=\"dataframe\">\n",
       "  <thead>\n",
       "    <tr style=\"text-align: right;\">\n",
       "      <th></th>\n",
       "      <th>\"number\"</th>\n",
       "      <th>\"answer\"</th>\n",
       "      <th>\"clue\"</th>\n",
       "      <th>\"notes\"</th>\n",
       "      <th>direction</th>\n",
       "      <th>num</th>\n",
       "    </tr>\n",
       "  </thead>\n",
       "  <tbody>\n",
       "    <tr>\n",
       "      <th>2</th>\n",
       "      <td>9A</td>\n",
       "      <td>elo</td>\n",
       "      <td>Chess rating system</td>\n",
       "      <td>NaN</td>\n",
       "      <td>A</td>\n",
       "      <td>9</td>\n",
       "    </tr>\n",
       "    <tr>\n",
       "      <th>3</th>\n",
       "      <td>10A</td>\n",
       "      <td>aaa</td>\n",
       "      <td>Call them when you have a flat</td>\n",
       "      <td>NaN</td>\n",
       "      <td>A</td>\n",
       "      <td>10</td>\n",
       "    </tr>\n",
       "    <tr>\n",
       "      <th>16</th>\n",
       "      <td>30A</td>\n",
       "      <td>oui</td>\n",
       "      <td>Yes, in Marseille</td>\n",
       "      <td>NaN</td>\n",
       "      <td>A</td>\n",
       "      <td>30</td>\n",
       "    </tr>\n",
       "  </tbody>\n",
       "</table>\n",
       "</div>"
      ],
      "text/plain": [
       "   \"number\" \"answer\"                          \"clue\"  \"notes\" direction  num\n",
       "2        9A      elo             Chess rating system      NaN         A    9\n",
       "3       10A      aaa  Call them when you have a flat      NaN         A   10\n",
       "16      30A      oui               Yes, in Marseille      NaN         A   30"
      ]
     },
     "execution_count": 13,
     "metadata": {},
     "output_type": "execute_result"
    }
   ],
   "source": [
    "df.sample(n=3)"
   ]
  },
  {
   "cell_type": "code",
   "execution_count": 20,
   "id": "10d67ec6-dc80-41d8-a96d-77f9b0e9afcc",
   "metadata": {},
   "outputs": [
    {
     "name": "stdout",
     "output_type": "stream",
     "text": [
      "1 The groom\n",
      "6 General Edward Lawrence Logan International Airport, for short\n",
      "9 Chess rating system\n",
      "10 Call them when you have a flat\n",
      "12 ___ v. Wade\n",
      "13 Carleton colors\n",
      "14 Latin: In media ___\n",
      "15 US food safety org.\n",
      "16 Org. for talks with \"Ideas Worth Spreading\"\n",
      "17 Muhammad ___\n",
      "18 Water vessel\n",
      "19 Detector\n",
      "20 The bride\n",
      "24 Sullen\n",
      "26 Pen tip\n",
      "27 Tap offering\n",
      "30 Yes, in Marseille\n",
      "31 US benefits org.\n",
      "32 Sunita, to Zach?\n",
      "33 Gorilla, for one\n",
      "34 Mil. leader\n",
      "35 Regret\n",
      "36 9-digit number issued by 31-Across\n",
      "37 Mount Rainier hasn't done this since 1450\n",
      "\n"
     ]
    }
   ],
   "source": [
    "clue_string = \"\"\n",
    "for _, row in df[df.direction == \"A\"].iterrows():\n",
    "    clue_string += f\"{row.num} \" + row['\"clue\"'] + \"\\n\"\n",
    "print(clue_string)"
   ]
  },
  {
   "cell_type": "code",
   "execution_count": 22,
   "id": "4ce4735a-1256-4cdd-b15d-f368e8b4ec01",
   "metadata": {},
   "outputs": [
    {
     "name": "stdout",
     "output_type": "stream",
     "text": [
      "1 Black and white animals\n",
      "2 Variant of a gene\n",
      "3 Aunt or uncle's child, to you\n",
      "4 Sought elected office\n",
      "5 When repeated, Seinfeld phrase\n",
      "6 UK-ian\n",
      "7 Seep\n",
      "8 Plant starter\n",
      "11 Not professional\n",
      "18 Sunita's alma mater\n",
      "20 Zach, to Sunita?\n",
      "21 Place into\n",
      "22 Kleenex\n",
      "23 Ceased\n",
      "25 16 make a Pound\n",
      "27 Cry of regret\n",
      "28 Cuts (off)\n",
      "29 Not odd\n",
      "\n"
     ]
    }
   ],
   "source": [
    "clue_string = \"\"\n",
    "for _, row in df[df.direction == \"D\"].iterrows():\n",
    "    clue_string += f\"{row.num} \" + row['\"clue\"'] + \"\\n\"\n",
    "print(clue_string)"
   ]
  },
  {
   "cell_type": "code",
   "execution_count": null,
   "id": "114c7a26-efd4-4a7d-8029-60ba6848b87c",
   "metadata": {},
   "outputs": [],
   "source": []
  }
 ],
 "metadata": {
  "kernelspec": {
   "display_name": "Python 3 (ipykernel)",
   "language": "python",
   "name": "python3"
  },
  "language_info": {
   "codemirror_mode": {
    "name": "ipython",
    "version": 3
   },
   "file_extension": ".py",
   "mimetype": "text/x-python",
   "name": "python",
   "nbconvert_exporter": "python",
   "pygments_lexer": "ipython3",
   "version": "3.13.2"
  }
 },
 "nbformat": 4,
 "nbformat_minor": 5
}
