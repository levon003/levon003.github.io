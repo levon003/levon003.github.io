{
 "cells": [
  {
   "cell_type": "markdown",
   "id": "cd0c1ade-570c-494d-a0aa-b9af4edf9ba0",
   "metadata": {},
   "source": [
    "Wikipedia Unreferenced Articles\n",
    "===\n",
    "\n",
    "https://sigma.toolforge.org/summary.py?name=Suriname0&search=FEB24&max=50&server=enwiki&ns=&enddate=20240201&startdate="
   ]
  },
  {
   "cell_type": "code",
   "execution_count": 3,
   "id": "a6d40e07-9c33-4bd3-9f05-9887fad14f1a",
   "metadata": {},
   "outputs": [],
   "source": [
    "import httpx\n",
    "from bs4 import BeautifulSoup, SoupStrainer"
   ]
  },
  {
   "cell_type": "code",
   "execution_count": 8,
   "id": "5d11f20e-862e-4fa7-9d8d-412899689bd1",
   "metadata": {},
   "outputs": [
    {
     "data": {
      "text/plain": [
       "26341"
      ]
     },
     "execution_count": 8,
     "metadata": {},
     "output_type": "execute_result"
    }
   ],
   "source": [
    "import pathlib\n",
    "with open(pathlib.Path.home() / \"Downloads\" / \"summary.html\") as infile:\n",
    "    html = infile.read()\n",
    "len(html)"
   ]
  },
  {
   "cell_type": "code",
   "execution_count": 27,
   "id": "ba9792bc-e5e8-4ff7-b8ab-dac3e232443f",
   "metadata": {},
   "outputs": [
    {
     "name": "stdout",
     "output_type": "stream",
     "text": [
      " - [Room For Love](https://en.wikipedia.org/wiki/Room_For_Love)\n",
      " - [El Gomrok](https://en.wikipedia.org/wiki/El_Gomrok)\n",
      " - [Tlaquepaque Centro metro station](https://en.wikipedia.org/wiki/Tlaquepaque_Centro_metro_station)\n",
      " - [Cuisine of Montserrat](https://en.wikipedia.org/wiki/Cuisine_of_Montserrat)\n",
      " - [Ede Magyar](https://en.wikipedia.org/wiki/Ede_Magyar)\n",
      " - [The Other Side (Woodson book)](https://en.wikipedia.org/wiki/The_Other_Side_(Woodson_book))\n",
      " - [Nick in the Afternoon](https://en.wikipedia.org/wiki/Nick_in_the_Afternoon)\n",
      " - [Congress of the Republic (Portugal)](https://en.wikipedia.org/wiki/Congress_of_the_Republic_(Portugal))\n",
      " - [International Institute for Neuroscience of Natal](https://en.wikipedia.org/wiki/International_Institute_for_Neuroscience_of_Natal)\n",
      " - [Caledonia Corvairs (1961–2012)](https://en.wikipedia.org/wiki/Caledonia_Corvairs_(1961–2012))\n",
      " - [Detect and avoid](https://en.wikipedia.org/wiki/Detect_and_avoid)\n",
      " - [Ali Baba's Tahini](https://en.wikipedia.org/wiki/Ali_Baba's_Tahini)\n",
      " - [Florence Hale](https://en.wikipedia.org/wiki/Florence_Hale)\n",
      " - [Blowfly's Punk Rock Party](https://en.wikipedia.org/wiki/Blowfly's_Punk_Rock_Party)\n",
      " - [Tamak'](https://en.wikipedia.org/wiki/Tamak')\n",
      " - [Lapland Group](https://en.wikipedia.org/wiki/Lapland_Group)\n",
      " - [List of compositions by Niels Viggo Bentzon](https://en.wikipedia.org/wiki/List_of_compositions_by_Niels_Viggo_Bentzon)\n",
      " - [Lockheed Martin ALHTK](https://en.wikipedia.org/wiki/Lockheed_Martin_ALHTK)\n",
      " - [Baltic Naval Squadron](https://en.wikipedia.org/wiki/Baltic_Naval_Squadron)\n",
      " - [Hawkfest](https://en.wikipedia.org/wiki/Hawkfest)\n",
      " - [Slovene numerals](https://en.wikipedia.org/wiki/Slovene_numerals)\n",
      " - [Lakeside Academy (Belle Glade)](https://en.wikipedia.org/wiki/Lakeside_Academy_(Belle_Glade))\n",
      " - [And So to Bath](https://en.wikipedia.org/wiki/And_So_to_Bath)\n",
      " - [Bergman Rock](https://en.wikipedia.org/wiki/Bergman_Rock)\n",
      " - [The Malady Lingers On](https://en.wikipedia.org/wiki/The_Malady_Lingers_On)\n",
      " - [Key light](https://en.wikipedia.org/wiki/Key_light)\n",
      " - [Chiaiano](https://en.wikipedia.org/wiki/Chiaiano)\n",
      " - [Luv (TV series)](https://en.wikipedia.org/wiki/Luv_(TV_series))\n",
      " - [Collegiate Church of St. Bartholomew](https://en.wikipedia.org/wiki/Collegiate_Church_of_St._Bartholomew)\n",
      " - [Finders Keepers (band)](https://en.wikipedia.org/wiki/Finders_Keepers_(band))\n",
      " - [Thriveni Academy](https://en.wikipedia.org/wiki/Thriveni_Academy)\n",
      " - [Maltengraben](https://en.wikipedia.org/wiki/Maltengraben)\n",
      " - [Hohengöhren](https://en.wikipedia.org/wiki/Hohengöhren)\n"
     ]
    }
   ],
   "source": [
    "for link in BeautifulSoup(html).find_all(\"a\"):  # , parse_only=SoupStrainer('a')\n",
    "    href = link.get(\"href\")\n",
    "    text = link.text\n",
    "    if href and \"/wiki/\" in href and not text.startswith(\"User\"):\n",
    "        print(f\" - [{text}]({href})\")"
   ]
  },
  {
   "cell_type": "code",
   "execution_count": null,
   "id": "5d5636e2-8cc3-47f0-8b19-d6d2a2e0bfc8",
   "metadata": {},
   "outputs": [],
   "source": []
  },
  {
   "cell_type": "code",
   "execution_count": null,
   "id": "f9ac2712-7703-4250-a9d9-9781bb4a977f",
   "metadata": {},
   "outputs": [],
   "source": []
  }
 ],
 "metadata": {
  "kernelspec": {
   "display_name": "Python 3 (ipykernel)",
   "language": "python",
   "name": "python3"
  },
  "language_info": {
   "codemirror_mode": {
    "name": "ipython",
    "version": 3
   },
   "file_extension": ".py",
   "mimetype": "text/x-python",
   "name": "python",
   "nbconvert_exporter": "python",
   "pygments_lexer": "ipython3",
   "version": "3.10.13"
  }
 },
 "nbformat": 4,
 "nbformat_minor": 5
}
